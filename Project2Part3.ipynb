{
  "nbformat": 4,
  "nbformat_minor": 0,
  "metadata": {
    "colab": {
      "provenance": [],
      "mount_file_id": "1jwBx3K-uVEBT6035xww82olvi121eqZw",
      "authorship_tag": "ABX9TyMpCNQkr6l3NX5ceDQ2pM4M",
      "include_colab_link": true
    },
    "kernelspec": {
      "name": "python3",
      "display_name": "Python 3"
    },
    "language_info": {
      "name": "python"
    }
  },
  "cells": [
    {
      "cell_type": "markdown",
      "metadata": {
        "id": "view-in-github",
        "colab_type": "text"
      },
      "source": [
        "<a href=\"https://colab.research.google.com/github/sls3542/Project2/blob/main/Project2Part3.ipynb\" target=\"_parent\"><img src=\"https://colab.research.google.com/assets/colab-badge.svg\" alt=\"Open In Colab\"/></a>"
      ]
    },
    {
      "cell_type": "code",
      "execution_count": 1,
      "metadata": {
        "id": "DH7D9R5TWN0i"
      },
      "outputs": [],
      "source": [
        "import pandas as pd"
      ]
    },
    {
      "cell_type": "code",
      "source": [
        "path = \"/content/drive/MyDrive/Intermediate Machine Learning/salaries.csv\"\n",
        "df = pd.read_csv(path)\n",
        "df.head()"
      ],
      "metadata": {
        "colab": {
          "base_uri": "https://localhost:8080/",
          "height": 392
        },
        "id": "psfDDBdbd-yX",
        "outputId": "a00844d5-1488-4c7b-8c98-71be127e85fa"
      },
      "execution_count": 2,
      "outputs": [
        {
          "output_type": "execute_result",
          "data": {
            "text/plain": [
              "   work_year experience_level employment_type               job_title  salary  \\\n",
              "0       2022               SE              FT  Marketing Data Analyst  200000   \n",
              "1       2022               EN              FT          Data Scientist   96000   \n",
              "2       2022               SE              FT       Data Science Lead  165000   \n",
              "3       2022               EN              FT          Data Scientist   27000   \n",
              "4       2022               SE              FT           Data Engineer  185900   \n",
              "\n",
              "  salary_currency  salary_in_usd employee_residence  remote_ratio  \\\n",
              "0             USD         200000                 GB           100   \n",
              "1             CAD          74378                 CA           100   \n",
              "2             USD         165000                 US            50   \n",
              "3             GBP          33599                 GB            50   \n",
              "4             USD         185900                 US             0   \n",
              "\n",
              "  company_location company_size  \n",
              "0               GB            S  \n",
              "1               CA            L  \n",
              "2               US            S  \n",
              "3               GB            L  \n",
              "4               US            M  "
            ],
            "text/html": [
              "\n",
              "  <div id=\"df-c43af007-7dcc-404e-a842-f68c7638a0f3\">\n",
              "    <div class=\"colab-df-container\">\n",
              "      <div>\n",
              "<style scoped>\n",
              "    .dataframe tbody tr th:only-of-type {\n",
              "        vertical-align: middle;\n",
              "    }\n",
              "\n",
              "    .dataframe tbody tr th {\n",
              "        vertical-align: top;\n",
              "    }\n",
              "\n",
              "    .dataframe thead th {\n",
              "        text-align: right;\n",
              "    }\n",
              "</style>\n",
              "<table border=\"1\" class=\"dataframe\">\n",
              "  <thead>\n",
              "    <tr style=\"text-align: right;\">\n",
              "      <th></th>\n",
              "      <th>work_year</th>\n",
              "      <th>experience_level</th>\n",
              "      <th>employment_type</th>\n",
              "      <th>job_title</th>\n",
              "      <th>salary</th>\n",
              "      <th>salary_currency</th>\n",
              "      <th>salary_in_usd</th>\n",
              "      <th>employee_residence</th>\n",
              "      <th>remote_ratio</th>\n",
              "      <th>company_location</th>\n",
              "      <th>company_size</th>\n",
              "    </tr>\n",
              "  </thead>\n",
              "  <tbody>\n",
              "    <tr>\n",
              "      <th>0</th>\n",
              "      <td>2022</td>\n",
              "      <td>SE</td>\n",
              "      <td>FT</td>\n",
              "      <td>Marketing Data Analyst</td>\n",
              "      <td>200000</td>\n",
              "      <td>USD</td>\n",
              "      <td>200000</td>\n",
              "      <td>GB</td>\n",
              "      <td>100</td>\n",
              "      <td>GB</td>\n",
              "      <td>S</td>\n",
              "    </tr>\n",
              "    <tr>\n",
              "      <th>1</th>\n",
              "      <td>2022</td>\n",
              "      <td>EN</td>\n",
              "      <td>FT</td>\n",
              "      <td>Data Scientist</td>\n",
              "      <td>96000</td>\n",
              "      <td>CAD</td>\n",
              "      <td>74378</td>\n",
              "      <td>CA</td>\n",
              "      <td>100</td>\n",
              "      <td>CA</td>\n",
              "      <td>L</td>\n",
              "    </tr>\n",
              "    <tr>\n",
              "      <th>2</th>\n",
              "      <td>2022</td>\n",
              "      <td>SE</td>\n",
              "      <td>FT</td>\n",
              "      <td>Data Science Lead</td>\n",
              "      <td>165000</td>\n",
              "      <td>USD</td>\n",
              "      <td>165000</td>\n",
              "      <td>US</td>\n",
              "      <td>50</td>\n",
              "      <td>US</td>\n",
              "      <td>S</td>\n",
              "    </tr>\n",
              "    <tr>\n",
              "      <th>3</th>\n",
              "      <td>2022</td>\n",
              "      <td>EN</td>\n",
              "      <td>FT</td>\n",
              "      <td>Data Scientist</td>\n",
              "      <td>27000</td>\n",
              "      <td>GBP</td>\n",
              "      <td>33599</td>\n",
              "      <td>GB</td>\n",
              "      <td>50</td>\n",
              "      <td>GB</td>\n",
              "      <td>L</td>\n",
              "    </tr>\n",
              "    <tr>\n",
              "      <th>4</th>\n",
              "      <td>2022</td>\n",
              "      <td>SE</td>\n",
              "      <td>FT</td>\n",
              "      <td>Data Engineer</td>\n",
              "      <td>185900</td>\n",
              "      <td>USD</td>\n",
              "      <td>185900</td>\n",
              "      <td>US</td>\n",
              "      <td>0</td>\n",
              "      <td>US</td>\n",
              "      <td>M</td>\n",
              "    </tr>\n",
              "  </tbody>\n",
              "</table>\n",
              "</div>\n",
              "      <button class=\"colab-df-convert\" onclick=\"convertToInteractive('df-c43af007-7dcc-404e-a842-f68c7638a0f3')\"\n",
              "              title=\"Convert this dataframe to an interactive table.\"\n",
              "              style=\"display:none;\">\n",
              "        \n",
              "  <svg xmlns=\"http://www.w3.org/2000/svg\" height=\"24px\"viewBox=\"0 0 24 24\"\n",
              "       width=\"24px\">\n",
              "    <path d=\"M0 0h24v24H0V0z\" fill=\"none\"/>\n",
              "    <path d=\"M18.56 5.44l.94 2.06.94-2.06 2.06-.94-2.06-.94-.94-2.06-.94 2.06-2.06.94zm-11 1L8.5 8.5l.94-2.06 2.06-.94-2.06-.94L8.5 2.5l-.94 2.06-2.06.94zm10 10l.94 2.06.94-2.06 2.06-.94-2.06-.94-.94-2.06-.94 2.06-2.06.94z\"/><path d=\"M17.41 7.96l-1.37-1.37c-.4-.4-.92-.59-1.43-.59-.52 0-1.04.2-1.43.59L10.3 9.45l-7.72 7.72c-.78.78-.78 2.05 0 2.83L4 21.41c.39.39.9.59 1.41.59.51 0 1.02-.2 1.41-.59l7.78-7.78 2.81-2.81c.8-.78.8-2.07 0-2.86zM5.41 20L4 18.59l7.72-7.72 1.47 1.35L5.41 20z\"/>\n",
              "  </svg>\n",
              "      </button>\n",
              "      \n",
              "  <style>\n",
              "    .colab-df-container {\n",
              "      display:flex;\n",
              "      flex-wrap:wrap;\n",
              "      gap: 12px;\n",
              "    }\n",
              "\n",
              "    .colab-df-convert {\n",
              "      background-color: #E8F0FE;\n",
              "      border: none;\n",
              "      border-radius: 50%;\n",
              "      cursor: pointer;\n",
              "      display: none;\n",
              "      fill: #1967D2;\n",
              "      height: 32px;\n",
              "      padding: 0 0 0 0;\n",
              "      width: 32px;\n",
              "    }\n",
              "\n",
              "    .colab-df-convert:hover {\n",
              "      background-color: #E2EBFA;\n",
              "      box-shadow: 0px 1px 2px rgba(60, 64, 67, 0.3), 0px 1px 3px 1px rgba(60, 64, 67, 0.15);\n",
              "      fill: #174EA6;\n",
              "    }\n",
              "\n",
              "    [theme=dark] .colab-df-convert {\n",
              "      background-color: #3B4455;\n",
              "      fill: #D2E3FC;\n",
              "    }\n",
              "\n",
              "    [theme=dark] .colab-df-convert:hover {\n",
              "      background-color: #434B5C;\n",
              "      box-shadow: 0px 1px 3px 1px rgba(0, 0, 0, 0.15);\n",
              "      filter: drop-shadow(0px 1px 2px rgba(0, 0, 0, 0.3));\n",
              "      fill: #FFFFFF;\n",
              "    }\n",
              "  </style>\n",
              "\n",
              "      <script>\n",
              "        const buttonEl =\n",
              "          document.querySelector('#df-c43af007-7dcc-404e-a842-f68c7638a0f3 button.colab-df-convert');\n",
              "        buttonEl.style.display =\n",
              "          google.colab.kernel.accessAllowed ? 'block' : 'none';\n",
              "\n",
              "        async function convertToInteractive(key) {\n",
              "          const element = document.querySelector('#df-c43af007-7dcc-404e-a842-f68c7638a0f3');\n",
              "          const dataTable =\n",
              "            await google.colab.kernel.invokeFunction('convertToInteractive',\n",
              "                                                     [key], {});\n",
              "          if (!dataTable) return;\n",
              "\n",
              "          const docLinkHtml = 'Like what you see? Visit the ' +\n",
              "            '<a target=\"_blank\" href=https://colab.research.google.com/notebooks/data_table.ipynb>data table notebook</a>'\n",
              "            + ' to learn more about interactive tables.';\n",
              "          element.innerHTML = '';\n",
              "          dataTable['output_type'] = 'display_data';\n",
              "          await google.colab.output.renderOutput(dataTable, element);\n",
              "          const docLink = document.createElement('div');\n",
              "          docLink.innerHTML = docLinkHtml;\n",
              "          element.appendChild(docLink);\n",
              "        }\n",
              "      </script>\n",
              "    </div>\n",
              "  </div>\n",
              "  "
            ]
          },
          "metadata": {},
          "execution_count": 2
        }
      ]
    },
    {
      "cell_type": "code",
      "source": [
        "df.shape"
      ],
      "metadata": {
        "colab": {
          "base_uri": "https://localhost:8080/"
        },
        "id": "PokfVIwheKgR",
        "outputId": "6cd123b9-4099-40d9-9ac0-5a8485da7ed5"
      },
      "execution_count": 3,
      "outputs": [
        {
          "output_type": "execute_result",
          "data": {
            "text/plain": [
              "(1195, 11)"
            ]
          },
          "metadata": {},
          "execution_count": 3
        }
      ]
    },
    {
      "cell_type": "markdown",
      "source": [
        "Upon review of this dataset, all columns are relevant to the predictions. "
      ],
      "metadata": {
        "id": "c-reWH-LiqYd"
      }
    },
    {
      "cell_type": "code",
      "source": [
        "df.isna().sum()"
      ],
      "metadata": {
        "colab": {
          "base_uri": "https://localhost:8080/"
        },
        "id": "Nqetwgswi4Zj",
        "outputId": "0f07f058-4e76-40e4-bad7-581410d517eb"
      },
      "execution_count": 4,
      "outputs": [
        {
          "output_type": "execute_result",
          "data": {
            "text/plain": [
              "work_year             0\n",
              "experience_level      0\n",
              "employment_type       0\n",
              "job_title             0\n",
              "salary                0\n",
              "salary_currency       0\n",
              "salary_in_usd         0\n",
              "employee_residence    0\n",
              "remote_ratio          0\n",
              "company_location      0\n",
              "company_size          0\n",
              "dtype: int64"
            ]
          },
          "metadata": {},
          "execution_count": 4
        }
      ]
    },
    {
      "cell_type": "markdown",
      "source": [
        "There are no missing values in the data"
      ],
      "metadata": {
        "id": "u8awL3zdkjLT"
      }
    },
    {
      "cell_type": "code",
      "source": [
        "df['work_year'].value_counts()"
      ],
      "metadata": {
        "colab": {
          "base_uri": "https://localhost:8080/"
        },
        "id": "pW74GgHlkmjY",
        "outputId": "7d9d79b6-35f6-4d5f-b0df-3d4be261e57b"
      },
      "execution_count": 5,
      "outputs": [
        {
          "output_type": "execute_result",
          "data": {
            "text/plain": [
              "2022    893\n",
              "2021    227\n",
              "2020     75\n",
              "Name: work_year, dtype: int64"
            ]
          },
          "metadata": {},
          "execution_count": 5
        }
      ]
    },
    {
      "cell_type": "markdown",
      "source": [
        "No erroneous data here."
      ],
      "metadata": {
        "id": "PSaKPRoIk-y5"
      }
    },
    {
      "cell_type": "code",
      "source": [
        "df['experience_level'].value_counts()"
      ],
      "metadata": {
        "colab": {
          "base_uri": "https://localhost:8080/"
        },
        "id": "bxtMhUVvlCWp",
        "outputId": "7c6e6f47-ef4e-4ac8-bf0a-9f1d0d675e16"
      },
      "execution_count": 6,
      "outputs": [
        {
          "output_type": "execute_result",
          "data": {
            "text/plain": [
              "SE    702\n",
              "MI    314\n",
              "EN    138\n",
              "EX     41\n",
              "Name: experience_level, dtype: int64"
            ]
          },
          "metadata": {},
          "execution_count": 6
        }
      ]
    },
    {
      "cell_type": "markdown",
      "source": [
        "looks good!"
      ],
      "metadata": {
        "id": "ICl4oHxglw_H"
      }
    },
    {
      "cell_type": "code",
      "source": [
        "df['employment_type'].value_counts()"
      ],
      "metadata": {
        "colab": {
          "base_uri": "https://localhost:8080/"
        },
        "id": "8eZ--f3SlzBy",
        "outputId": "6fd9f7d2-376e-4698-ac4b-ee0551259830"
      },
      "execution_count": 7,
      "outputs": [
        {
          "output_type": "execute_result",
          "data": {
            "text/plain": [
              "FT    1170\n",
              "PT      12\n",
              "CT       8\n",
              "FL       5\n",
              "Name: employment_type, dtype: int64"
            ]
          },
          "metadata": {},
          "execution_count": 7
        }
      ]
    },
    {
      "cell_type": "markdown",
      "source": [
        "Also looks good"
      ],
      "metadata": {
        "id": "HlDADk9Pl5-0"
      }
    },
    {
      "cell_type": "code",
      "source": [
        "df['job_title'].value_counts()"
      ],
      "metadata": {
        "colab": {
          "base_uri": "https://localhost:8080/"
        },
        "id": "wqYsigyQl8O-",
        "outputId": "2709332a-7ae2-40d9-8290-3eaf0d5e199b"
      },
      "execution_count": 8,
      "outputs": [
        {
          "output_type": "execute_result",
          "data": {
            "text/plain": [
              "Data Scientist               310\n",
              "Data Engineer                276\n",
              "Data Analyst                 162\n",
              "Machine Learning Engineer     78\n",
              "Analytics Engineer            37\n",
              "                            ... \n",
              "Power BI Developer             1\n",
              "Data Science Lead              1\n",
              "Big Data Architect             1\n",
              "Staff Data Scientist           1\n",
              "Finance Data Analyst           1\n",
              "Name: job_title, Length: 63, dtype: int64"
            ]
          },
          "metadata": {},
          "execution_count": 8
        }
      ]
    },
    {
      "cell_type": "markdown",
      "source": [
        "This will be an interesting one to one hot encode. I might seperate the data nad run the three top job titles seperately to see the figures. But still looking very clean"
      ],
      "metadata": {
        "id": "LQ7_vLBfmIxz"
      }
    },
    {
      "cell_type": "code",
      "source": [
        "df['salary_currency'].value_counts()"
      ],
      "metadata": {
        "colab": {
          "base_uri": "https://localhost:8080/"
        },
        "id": "R0DjoGE5mnNz",
        "outputId": "aaf502c4-2069-4fd4-cdb0-66742abdedb1"
      },
      "execution_count": 9,
      "outputs": [
        {
          "output_type": "execute_result",
          "data": {
            "text/plain": [
              "USD    892\n",
              "EUR    129\n",
              "GBP     76\n",
              "INR     40\n",
              "CAD     21\n",
              "AUD      8\n",
              "BRL      5\n",
              "PLN      3\n",
              "TRY      3\n",
              "JPY      3\n",
              "SGD      3\n",
              "DKK      3\n",
              "CNY      2\n",
              "HUF      2\n",
              "MXN      2\n",
              "CHF      1\n",
              "CZK      1\n",
              "CLP      1\n",
              "Name: salary_currency, dtype: int64"
            ]
          },
          "metadata": {},
          "execution_count": 9
        }
      ]
    },
    {
      "cell_type": "markdown",
      "source": [
        "Looks clean as well, also another vector to see if there is a correlation between salary level and currency."
      ],
      "metadata": {
        "id": "ib0pMba-mysO"
      }
    },
    {
      "cell_type": "code",
      "source": [
        "df['employee_residence'].value_counts()"
      ],
      "metadata": {
        "colab": {
          "base_uri": "https://localhost:8080/"
        },
        "id": "hCk0pxVem6Hf",
        "outputId": "565b7512-0f08-44f6-e3f4-1c6b2c82dbc4"
      },
      "execution_count": 10,
      "outputs": [
        {
          "output_type": "execute_result",
          "data": {
            "text/plain": [
              "US    795\n",
              "GB     78\n",
              "IN     45\n",
              "CA     36\n",
              "DE     31\n",
              "     ... \n",
              "IE      1\n",
              "TH      1\n",
              "ID      1\n",
              "EG      1\n",
              "MT      1\n",
              "Name: employee_residence, Length: 64, dtype: int64"
            ]
          },
          "metadata": {},
          "execution_count": 10
        }
      ]
    },
    {
      "cell_type": "markdown",
      "source": [
        "looks clean"
      ],
      "metadata": {
        "id": "uq-Et1WYnU9T"
      }
    },
    {
      "cell_type": "code",
      "source": [
        "df['remote_ratio'].value_counts()"
      ],
      "metadata": {
        "colab": {
          "base_uri": "https://localhost:8080/"
        },
        "id": "o4d3nUvnnUIP",
        "outputId": "4773e470-92b7-4349-9015-1afd30134b00"
      },
      "execution_count": 11,
      "outputs": [
        {
          "output_type": "execute_result",
          "data": {
            "text/plain": [
              "100    730\n",
              "0      330\n",
              "50     135\n",
              "Name: remote_ratio, dtype: int64"
            ]
          },
          "metadata": {},
          "execution_count": 11
        }
      ]
    },
    {
      "cell_type": "code",
      "source": [
        "df['company_location'].value_counts()"
      ],
      "metadata": {
        "colab": {
          "base_uri": "https://localhost:8080/"
        },
        "id": "F2ztJ5LCneC5",
        "outputId": "b1b2718b-d469-462c-ff1a-d0028f7f8f9c"
      },
      "execution_count": 12,
      "outputs": [
        {
          "output_type": "execute_result",
          "data": {
            "text/plain": [
              "US    823\n",
              "GB     82\n",
              "CA     37\n",
              "IN     36\n",
              "DE     35\n",
              "ES     24\n",
              "FR     19\n",
              "GR     13\n",
              "PT      9\n",
              "AU      9\n",
              "NL      9\n",
              "JP      6\n",
              "BR      6\n",
              "AT      5\n",
              "TR      5\n",
              "PR      4\n",
              "PL      4\n",
              "BE      4\n",
              "DK      4\n",
              "MX      3\n",
              "CZ      3\n",
              "SG      3\n",
              "NG      3\n",
              "PK      3\n",
              "LU      3\n",
              "AE      3\n",
              "RU      2\n",
              "CH      2\n",
              "SI      2\n",
              "CN      2\n",
              "IT      2\n",
              "AS      2\n",
              "ID      2\n",
              "UA      1\n",
              "IL      1\n",
              "HR      1\n",
              "VN      1\n",
              "MD      1\n",
              "CL      1\n",
              "IR      1\n",
              "NZ      1\n",
              "CO      1\n",
              "KE      1\n",
              "HU      1\n",
              "FI      1\n",
              "EG      1\n",
              "IE      1\n",
              "IQ      1\n",
              "RO      1\n",
              "DZ      1\n",
              "TH      1\n",
              "BO      1\n",
              "PH      1\n",
              "HN      1\n",
              "AL      1\n",
              "EE      1\n",
              "MY      1\n",
              "AR      1\n",
              "MT      1\n",
              "Name: company_location, dtype: int64"
            ]
          },
          "metadata": {},
          "execution_count": 12
        }
      ]
    },
    {
      "cell_type": "markdown",
      "source": [
        "This follows the ISO Country Codes. Will be interesting to convert to numbers. I wonder if there is a standardized system for machine learning."
      ],
      "metadata": {
        "id": "_st9FsMcnuw6"
      }
    },
    {
      "cell_type": "code",
      "source": [
        "df['company_size'].value_counts()"
      ],
      "metadata": {
        "colab": {
          "base_uri": "https://localhost:8080/"
        },
        "id": "a2RxAuHWn4sZ",
        "outputId": "21335d9b-e620-496a-d209-a5882c8889fe"
      },
      "execution_count": 13,
      "outputs": [
        {
          "output_type": "execute_result",
          "data": {
            "text/plain": [
              "M    774\n",
              "L    310\n",
              "S    111\n",
              "Name: company_size, dtype: int64"
            ]
          },
          "metadata": {},
          "execution_count": 13
        }
      ]
    },
    {
      "cell_type": "markdown",
      "source": [
        "Also looks clean!"
      ],
      "metadata": {
        "id": "A9jLWmVCoA0W"
      }
    },
    {
      "cell_type": "code",
      "source": [
        "import numpy as np\n",
        "import matplotlib.pyplot as plt\n",
        "import seaborn as sns"
      ],
      "metadata": {
        "id": "JP1qwbX4oCut"
      },
      "execution_count": 14,
      "outputs": []
    },
    {
      "cell_type": "code",
      "source": [
        "df['salary_in_usd'].hist();"
      ],
      "metadata": {
        "colab": {
          "base_uri": "https://localhost:8080/",
          "height": 265
        },
        "id": "pwLUhYnto57w",
        "outputId": "06ee17e3-aa92-43f6-e4d4-b6365827e9d4"
      },
      "execution_count": 15,
      "outputs": [
        {
          "output_type": "display_data",
          "data": {
            "text/plain": [
              "<Figure size 432x288 with 1 Axes>"
            ],
            "image/png": "[encoded data removed]"
          },
          "metadata": {
            "needs_background": "light"
          }
        }
      ]
    },
    {
      "cell_type": "markdown",
      "source": [
        "Wow thats already pretty cool. Shows that people working with AI and Machine Learning mostly make arround 100k"
      ],
      "metadata": {
        "id": "v0VqVKEfpGM-"
      }
    },
    {
      "cell_type": "code",
      "source": [
        "df.boxplot('salary_in_usd');"
      ],
      "metadata": {
        "colab": {
          "base_uri": "https://localhost:8080/",
          "height": 266
        },
        "id": "A6Lg8ln2pPNy",
        "outputId": "d2b8e365-d737-41ae-caa0-40f23960341c"
      },
      "execution_count": 16,
      "outputs": [
        {
          "output_type": "display_data",
          "data": {
            "text/plain": [
              "<Figure size 432x288 with 1 Axes>"
            ],
            "image/png": "[encoded data removed]"
          },
          "metadata": {
            "needs_background": "light"
          }
        }
      ]
    },
    {
      "cell_type": "markdown",
      "source": [
        "Good to see that there are no low outliers lol."
      ],
      "metadata": {
        "id": "QLfUGhiDpl2m"
      }
    },
    {
      "cell_type": "code",
      "source": [
        "import seaborn as sns\n",
        "corr = df.corr()\n",
        "sns.heatmap(corr, cmap = 'Blues')"
      ],
      "metadata": {
        "colab": {
          "base_uri": "https://localhost:8080/",
          "height": 288
        },
        "id": "IuqG1FwUk46j",
        "outputId": "7497c064-6f66-4e03-d556-61991471e044"
      },
      "execution_count": 17,
      "outputs": [
        {
          "output_type": "execute_result",
          "data": {
            "text/plain": [
              "<matplotlib.axes._subplots.AxesSubplot at 0x7f4f25a0d970>"
            ]
          },
          "metadata": {},
          "execution_count": 17
        },
        {
          "output_type": "display_data",
          "data": {
            "text/plain": [
              "<Figure size 432x288 with 2 Axes>"
            ],
            "image/png": "[encoded data removed]"
          },
          "metadata": {
            "needs_background": "light"
          }
        }
      ]
    },
    {
      "cell_type": "markdown",
      "source": [
        "The only correlation of note is the salary in USD to work year. It has the highest correlation. Regular salary can be ignored as it is in several currencies."
      ],
      "metadata": {
        "id": "01NJDRGLlifq"
      }
    },
    {
      "cell_type": "code",
      "source": [
        "paybyexp = df.groupby(['experience_level'])['salary_in_usd'].nunique()\n",
        "paybyexp"
      ],
      "metadata": {
        "colab": {
          "base_uri": "https://localhost:8080/"
        },
        "id": "NG6UeHEbqWSZ",
        "outputId": "c4434f1c-f7bf-475d-c82b-0e2a4ab3b6a3"
      },
      "execution_count": 18,
      "outputs": [
        {
          "output_type": "execute_result",
          "data": {
            "text/plain": [
              "experience_level\n",
              "EN    106\n",
              "EX     37\n",
              "MI    207\n",
              "SE    303\n",
              "Name: salary_in_usd, dtype: int64"
            ]
          },
          "metadata": {},
          "execution_count": 18
        }
      ]
    },
    {
      "cell_type": "code",
      "source": [
        "salaries = df.groupby('experience_level')['salary_in_usd'].mean()\n",
        "salaries"
      ],
      "metadata": {
        "colab": {
          "base_uri": "https://localhost:8080/"
        },
        "id": "RdmDSkfCp21X",
        "outputId": "4ad07424-c105-4a4c-de30-073bdf79bb4e"
      },
      "execution_count": 19,
      "outputs": [
        {
          "output_type": "execute_result",
          "data": {
            "text/plain": [
              "experience_level\n",
              "EN     58445.355072\n",
              "EX    195607.414634\n",
              "MI     90290.748408\n",
              "SE    144448.015670\n",
              "Name: salary_in_usd, dtype: float64"
            ]
          },
          "metadata": {},
          "execution_count": 19
        }
      ]
    },
    {
      "cell_type": "code",
      "source": [
        "explevel = list(paybyexp.index)\n",
        "explevel"
      ],
      "metadata": {
        "colab": {
          "base_uri": "https://localhost:8080/"
        },
        "id": "iK4JU2o-svXj",
        "outputId": "b75bb606-2a8f-461b-ced1-9384d468296a"
      },
      "execution_count": 20,
      "outputs": [
        {
          "output_type": "execute_result",
          "data": {
            "text/plain": [
              "['EN', 'EX', 'MI', 'SE']"
            ]
          },
          "metadata": {},
          "execution_count": 20
        }
      ]
    },
    {
      "cell_type": "code",
      "source": [
        "\n",
        "plt.style.use('seaborn')\n",
        "plt.plot(explevel, salaries);\n",
        "x = explevel\n",
        "my_xticks = ['Entry','Executive','Middle','Senior']\n",
        "plt.xticks(x, my_xticks)\n",
        "plt.xlabel('Experince Level')\n",
        "plt.ylabel('Average Salaries');\n",
        "plt.title('Average Salaries by Experience Level')\n"
      ],
      "metadata": {
        "colab": {
          "base_uri": "https://localhost:8080/",
          "height": 394
        },
        "id": "MbfSCFGrm_Lo",
        "outputId": "17c5848c-c705-4ad0-c9e8-d5fcd5a8933b"
      },
      "execution_count": 21,
      "outputs": [
        {
          "output_type": "execute_result",
          "data": {
            "text/plain": [
              "Text(0.5, 1.0, 'Average Salaries by Experience Level')"
            ]
          },
          "metadata": {},
          "execution_count": 21
        },
        {
          "output_type": "display_data",
          "data": {
            "text/plain": [
              "<Figure size 576x396 with 1 Axes>"
            ],
            "image/png": "[encoded data removed]"
          },
          "metadata": {}
        }
      ]
    },
    {
      "cell_type": "markdown",
      "source": [
        "This graph shows the average salaries by experience level. Excutive level positions pay the most."
      ],
      "metadata": {
        "id": "dcAvfcutytyG"
      }
    },
    {
      "cell_type": "code",
      "source": [
        "paybycur = df.groupby(['salary_currency'])['salary_in_usd'].nunique()\n",
        "paybycur"
      ],
      "metadata": {
        "colab": {
          "base_uri": "https://localhost:8080/"
        },
        "id": "ooPvQkIkYJpm",
        "outputId": "b7110b4a-7899-44a3-cdf9-229a9ca52ef7"
      },
      "execution_count": 22,
      "outputs": [
        {
          "output_type": "execute_result",
          "data": {
            "text/plain": [
              "salary_currency\n",
              "AUD      7\n",
              "BRL      5\n",
              "CAD     20\n",
              "CHF      1\n",
              "CLP      1\n",
              "CNY      2\n",
              "CZK      1\n",
              "DKK      3\n",
              "EUR     89\n",
              "GBP     42\n",
              "HUF      2\n",
              "INR     35\n",
              "JPY      3\n",
              "MXN      2\n",
              "PLN      3\n",
              "SGD      3\n",
              "TRY      3\n",
              "USD    316\n",
              "Name: salary_in_usd, dtype: int64"
            ]
          },
          "metadata": {},
          "execution_count": 22
        }
      ]
    },
    {
      "cell_type": "code",
      "source": [
        "currencyeqv = df.groupby('salary_currency')['salary_in_usd'].mean()\n",
        "currencyeqv"
      ],
      "metadata": {
        "colab": {
          "base_uri": "https://localhost:8080/"
        },
        "id": "Fs8dgv-7YwOy",
        "outputId": "b9857595-f1b2-4c69-a026-44e184a0d4b5"
      },
      "execution_count": 23,
      "outputs": [
        {
          "output_type": "execute_result",
          "data": {
            "text/plain": [
              "salary_currency\n",
              "AUD     75508.750000\n",
              "BRL      9673.800000\n",
              "CAD    100145.714286\n",
              "CHF    120334.000000\n",
              "CLP     40038.000000\n",
              "CNY     39696.500000\n",
              "CZK      5149.000000\n",
              "DKK     31192.666667\n",
              "EUR     64394.829457\n",
              "GBP     82937.302632\n",
              "HUF     35997.000000\n",
              "INR     26438.050000\n",
              "JPY     60921.333333\n",
              "MXN     18185.000000\n",
              "PLN     36268.666667\n",
              "SGD     91182.333333\n",
              "TRY     20096.666667\n",
              "USD    141640.933857\n",
              "Name: salary_in_usd, dtype: float64"
            ]
          },
          "metadata": {},
          "execution_count": 23
        }
      ]
    },
    {
      "cell_type": "code",
      "source": [
        "currency = list(paybycur.index)\n",
        "currency"
      ],
      "metadata": {
        "colab": {
          "base_uri": "https://localhost:8080/"
        },
        "id": "FZat3QPCaG2L",
        "outputId": "1962eaf6-83eb-4cb6-bf6b-c62c761e9d68"
      },
      "execution_count": 24,
      "outputs": [
        {
          "output_type": "execute_result",
          "data": {
            "text/plain": [
              "['AUD',\n",
              " 'BRL',\n",
              " 'CAD',\n",
              " 'CHF',\n",
              " 'CLP',\n",
              " 'CNY',\n",
              " 'CZK',\n",
              " 'DKK',\n",
              " 'EUR',\n",
              " 'GBP',\n",
              " 'HUF',\n",
              " 'INR',\n",
              " 'JPY',\n",
              " 'MXN',\n",
              " 'PLN',\n",
              " 'SGD',\n",
              " 'TRY',\n",
              " 'USD']"
            ]
          },
          "metadata": {},
          "execution_count": 24
        }
      ]
    },
    {
      "cell_type": "code",
      "source": [
        "\n",
        "plt.style.use('seaborn')\n",
        "plt.plot(currency, currencyeqv);\n",
        "plt.xlabel('Currencies')\n",
        "plt.ylabel('In USD');\n",
        "plt.title('Average Salaries by International Currency')\n"
      ],
      "metadata": {
        "colab": {
          "base_uri": "https://localhost:8080/",
          "height": 394
        },
        "id": "AAC38YNKZBpC",
        "outputId": "614c25d5-3c1a-4e56-9df0-8172ddf7b2ab"
      },
      "execution_count": 25,
      "outputs": [
        {
          "output_type": "execute_result",
          "data": {
            "text/plain": [
              "Text(0.5, 1.0, 'Average Salaries by International Currency')"
            ]
          },
          "metadata": {},
          "execution_count": 25
        },
        {
          "output_type": "display_data",
          "data": {
            "text/plain": [
              "<Figure size 576x396 with 1 Axes>"
            ],
            "image/png": "[encoded data removed]"
          },
          "metadata": {}
        }
      ]
    }
  ]
}