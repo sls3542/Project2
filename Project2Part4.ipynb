{
  "nbformat": 4,
  "nbformat_minor": 0,
  "metadata": {
    "colab": {
      "provenance": [],
      "mount_file_id": "1jwBx3K-uVEBT6035xww82olvi121eqZw",
      "authorship_tag": "ABX9TyPxIIlKciVuTOSL89kQWQyu",
      "include_colab_link": true
    },
    "kernelspec": {
      "name": "python3",
      "display_name": "Python 3"
    },
    "language_info": {
      "name": "python"
    }
  },
  "cells": [
    {
      "cell_type": "markdown",
      "metadata": {
        "id": "view-in-github",
        "colab_type": "text"
      },
      "source": [
        "<a href=\"https://colab.research.google.com/github/sls3542/Project2/blob/main/Project2Part4.ipynb\" target=\"_parent\"><img src=\"https://colab.research.google.com/assets/colab-badge.svg\" alt=\"Open In Colab\"/></a>"
      ]
    },
    {
      "cell_type": "code",
      "execution_count": 1,
      "metadata": {
        "id": "DH7D9R5TWN0i"
      },
      "outputs": [],
      "source": [
        "import pandas as pd"
      ]
    },
    {
      "cell_type": "code",
      "source": [
        "from google.colab import drive\n",
        "drive.mount('/content/drive')"
      ],
      "metadata": {
        "id": "KIUYcTBOnPLy",
        "outputId": "1007f2b7-583c-4fae-d938-9358d7021103",
        "colab": {
          "base_uri": "https://localhost:8080/"
        }
      },
      "execution_count": 2,
      "outputs": [
        {
          "output_type": "stream",
          "name": "stdout",
          "text": [
            "Mounted at /content/drive\n"
          ]
        }
      ]
    },
    {
      "cell_type": "code",
      "source": [
        "path = \"/content/drive/MyDrive/Intermediate Machine Learning/salaries.csv\"\n",
        "df = pd.read_csv(path)\n",
        "df.head()"
      ],
      "metadata": {
        "colab": {
          "base_uri": "https://localhost:8080/",
          "height": 392
        },
        "id": "psfDDBdbd-yX",
        "outputId": "bfa4202d-f7a0-4040-b292-3904a9a71465"
      },
      "execution_count": 3,
      "outputs": [
        {
          "output_type": "execute_result",
          "data": {
            "text/plain": [
              "   work_year experience_level employment_type               job_title  salary  \\\n",
              "0       2022               SE              FT  Marketing Data Analyst  200000   \n",
              "1       2022               EN              FT          Data Scientist   96000   \n",
              "2       2022               SE              FT       Data Science Lead  165000   \n",
              "3       2022               EN              FT          Data Scientist   27000   \n",
              "4       2022               SE              FT           Data Engineer  185900   \n",
              "\n",
              "  salary_currency  salary_in_usd employee_residence  remote_ratio  \\\n",
              "0             USD         200000                 GB           100   \n",
              "1             CAD          74378                 CA           100   \n",
              "2             USD         165000                 US            50   \n",
              "3             GBP          33599                 GB            50   \n",
              "4             USD         185900                 US             0   \n",
              "\n",
              "  company_location company_size  \n",
              "0               GB            S  \n",
              "1               CA            L  \n",
              "2               US            S  \n",
              "3               GB            L  \n",
              "4               US            M  "
            ],
            "text/html": [
              "\n",
              "  <div id=\"df-17c560be-d995-40a4-8874-c2573fc7e595\">\n",
              "    <div class=\"colab-df-container\">\n",
              "      <div>\n",
              "<style scoped>\n",
              "    .dataframe tbody tr th:only-of-type {\n",
              "        vertical-align: middle;\n",
              "    }\n",
              "\n",
              "    .dataframe tbody tr th {\n",
              "        vertical-align: top;\n",
              "    }\n",
              "\n",
              "    .dataframe thead th {\n",
              "        text-align: right;\n",
              "    }\n",
              "</style>\n",
              "<table border=\"1\" class=\"dataframe\">\n",
              "  <thead>\n",
              "    <tr style=\"text-align: right;\">\n",
              "      <th></th>\n",
              "      <th>work_year</th>\n",
              "      <th>experience_level</th>\n",
              "      <th>employment_type</th>\n",
              "      <th>job_title</th>\n",
              "      <th>salary</th>\n",
              "      <th>salary_currency</th>\n",
              "      <th>salary_in_usd</th>\n",
              "      <th>employee_residence</th>\n",
              "      <th>remote_ratio</th>\n",
              "      <th>company_location</th>\n",
              "      <th>company_size</th>\n",
              "    </tr>\n",
              "  </thead>\n",
              "  <tbody>\n",
              "    <tr>\n",
              "      <th>0</th>\n",
              "      <td>2022</td>\n",
              "      <td>SE</td>\n",
              "      <td>FT</td>\n",
              "      <td>Marketing Data Analyst</td>\n",
              "      <td>200000</td>\n",
              "      <td>USD</td>\n",
              "      <td>200000</td>\n",
              "      <td>GB</td>\n",
              "      <td>100</td>\n",
              "      <td>GB</td>\n",
              "      <td>S</td>\n",
              "    </tr>\n",
              "    <tr>\n",
              "      <th>1</th>\n",
              "      <td>2022</td>\n",
              "      <td>EN</td>\n",
              "      <td>FT</td>\n",
              "      <td>Data Scientist</td>\n",
              "      <td>96000</td>\n",
              "      <td>CAD</td>\n",
              "      <td>74378</td>\n",
              "      <td>CA</td>\n",
              "      <td>100</td>\n",
              "      <td>CA</td>\n",
              "      <td>L</td>\n",
              "    </tr>\n",
              "    <tr>\n",
              "      <th>2</th>\n",
              "      <td>2022</td>\n",
              "      <td>SE</td>\n",
              "      <td>FT</td>\n",
              "      <td>Data Science Lead</td>\n",
              "      <td>165000</td>\n",
              "      <td>USD</td>\n",
              "      <td>165000</td>\n",
              "      <td>US</td>\n",
              "      <td>50</td>\n",
              "      <td>US</td>\n",
              "      <td>S</td>\n",
              "    </tr>\n",
              "    <tr>\n",
              "      <th>3</th>\n",
              "      <td>2022</td>\n",
              "      <td>EN</td>\n",
              "      <td>FT</td>\n",
              "      <td>Data Scientist</td>\n",
              "      <td>27000</td>\n",
              "      <td>GBP</td>\n",
              "      <td>33599</td>\n",
              "      <td>GB</td>\n",
              "      <td>50</td>\n",
              "      <td>GB</td>\n",
              "      <td>L</td>\n",
              "    </tr>\n",
              "    <tr>\n",
              "      <th>4</th>\n",
              "      <td>2022</td>\n",
              "      <td>SE</td>\n",
              "      <td>FT</td>\n",
              "      <td>Data Engineer</td>\n",
              "      <td>185900</td>\n",
              "      <td>USD</td>\n",
              "      <td>185900</td>\n",
              "      <td>US</td>\n",
              "      <td>0</td>\n",
              "      <td>US</td>\n",
              "      <td>M</td>\n",
              "    </tr>\n",
              "  </tbody>\n",
              "</table>\n",
              "</div>\n",
              "      <button class=\"colab-df-convert\" onclick=\"convertToInteractive('df-17c560be-d995-40a4-8874-c2573fc7e595')\"\n",
              "              title=\"Convert this dataframe to an interactive table.\"\n",
              "              style=\"display:none;\">\n",
              "        \n",
              "  <svg xmlns=\"http://www.w3.org/2000/svg\" height=\"24px\"viewBox=\"0 0 24 24\"\n",
              "       width=\"24px\">\n",
              "    <path d=\"M0 0h24v24H0V0z\" fill=\"none\"/>\n",
              "    <path d=\"M18.56 5.44l.94 2.06.94-2.06 2.06-.94-2.06-.94-.94-2.06-.94 2.06-2.06.94zm-11 1L8.5 8.5l.94-2.06 2.06-.94-2.06-.94L8.5 2.5l-.94 2.06-2.06.94zm10 10l.94 2.06.94-2.06 2.06-.94-2.06-.94-.94-2.06-.94 2.06-2.06.94z\"/><path d=\"M17.41 7.96l-1.37-1.37c-.4-.4-.92-.59-1.43-.59-.52 0-1.04.2-1.43.59L10.3 9.45l-7.72 7.72c-.78.78-.78 2.05 0 2.83L4 21.41c.39.39.9.59 1.41.59.51 0 1.02-.2 1.41-.59l7.78-7.78 2.81-2.81c.8-.78.8-2.07 0-2.86zM5.41 20L4 18.59l7.72-7.72 1.47 1.35L5.41 20z\"/>\n",
              "  </svg>\n",
              "      </button>\n",
              "      \n",
              "  <style>\n",
              "    .colab-df-container {\n",
              "      display:flex;\n",
              "      flex-wrap:wrap;\n",
              "      gap: 12px;\n",
              "    }\n",
              "\n",
              "    .colab-df-convert {\n",
              "      background-color: #E8F0FE;\n",
              "      border: none;\n",
              "      border-radius: 50%;\n",
              "      cursor: pointer;\n",
              "      display: none;\n",
              "      fill: #1967D2;\n",
              "      height: 32px;\n",
              "      padding: 0 0 0 0;\n",
              "      width: 32px;\n",
              "    }\n",
              "\n",
              "    .colab-df-convert:hover {\n",
              "      background-color: #E2EBFA;\n",
              "      box-shadow: 0px 1px 2px rgba(60, 64, 67, 0.3), 0px 1px 3px 1px rgba(60, 64, 67, 0.15);\n",
              "      fill: #174EA6;\n",
              "    }\n",
              "\n",
              "    [theme=dark] .colab-df-convert {\n",
              "      background-color: #3B4455;\n",
              "      fill: #D2E3FC;\n",
              "    }\n",
              "\n",
              "    [theme=dark] .colab-df-convert:hover {\n",
              "      background-color: #434B5C;\n",
              "      box-shadow: 0px 1px 3px 1px rgba(0, 0, 0, 0.15);\n",
              "      filter: drop-shadow(0px 1px 2px rgba(0, 0, 0, 0.3));\n",
              "      fill: #FFFFFF;\n",
              "    }\n",
              "  </style>\n",
              "\n",
              "      <script>\n",
              "        const buttonEl =\n",
              "          document.querySelector('#df-17c560be-d995-40a4-8874-c2573fc7e595 button.colab-df-convert');\n",
              "        buttonEl.style.display =\n",
              "          google.colab.kernel.accessAllowed ? 'block' : 'none';\n",
              "\n",
              "        async function convertToInteractive(key) {\n",
              "          const element = document.querySelector('#df-17c560be-d995-40a4-8874-c2573fc7e595');\n",
              "          const dataTable =\n",
              "            await google.colab.kernel.invokeFunction('convertToInteractive',\n",
              "                                                     [key], {});\n",
              "          if (!dataTable) return;\n",
              "\n",
              "          const docLinkHtml = 'Like what you see? Visit the ' +\n",
              "            '<a target=\"_blank\" href=https://colab.research.google.com/notebooks/data_table.ipynb>data table notebook</a>'\n",
              "            + ' to learn more about interactive tables.';\n",
              "          element.innerHTML = '';\n",
              "          dataTable['output_type'] = 'display_data';\n",
              "          await google.colab.output.renderOutput(dataTable, element);\n",
              "          const docLink = document.createElement('div');\n",
              "          docLink.innerHTML = docLinkHtml;\n",
              "          element.appendChild(docLink);\n",
              "        }\n",
              "      </script>\n",
              "    </div>\n",
              "  </div>\n",
              "  "
            ]
          },
          "metadata": {},
          "execution_count": 3
        }
      ]
    },
    {
      "cell_type": "code",
      "source": [
        "df.shape"
      ],
      "metadata": {
        "colab": {
          "base_uri": "https://localhost:8080/"
        },
        "id": "PokfVIwheKgR",
        "outputId": "db4503b9-0bd9-4914-cbfd-acefa0940779"
      },
      "execution_count": 4,
      "outputs": [
        {
          "output_type": "execute_result",
          "data": {
            "text/plain": [
              "(1195, 11)"
            ]
          },
          "metadata": {},
          "execution_count": 4
        }
      ]
    },
    {
      "cell_type": "markdown",
      "source": [
        "Upon review of this dataset, all columns are relevant to the predictions. "
      ],
      "metadata": {
        "id": "c-reWH-LiqYd"
      }
    },
    {
      "cell_type": "code",
      "source": [
        "df.isna().sum()"
      ],
      "metadata": {
        "colab": {
          "base_uri": "https://localhost:8080/"
        },
        "id": "Nqetwgswi4Zj",
        "outputId": "dbed8fc4-2f86-43a4-f677-0ddac0fff466"
      },
      "execution_count": 5,
      "outputs": [
        {
          "output_type": "execute_result",
          "data": {
            "text/plain": [
              "work_year             0\n",
              "experience_level      0\n",
              "employment_type       0\n",
              "job_title             0\n",
              "salary                0\n",
              "salary_currency       0\n",
              "salary_in_usd         0\n",
              "employee_residence    0\n",
              "remote_ratio          0\n",
              "company_location      0\n",
              "company_size          0\n",
              "dtype: int64"
            ]
          },
          "metadata": {},
          "execution_count": 5
        }
      ]
    },
    {
      "cell_type": "markdown",
      "source": [
        "There are no missing values in the data"
      ],
      "metadata": {
        "id": "u8awL3zdkjLT"
      }
    },
    {
      "cell_type": "code",
      "source": [
        "df['work_year'].value_counts()"
      ],
      "metadata": {
        "colab": {
          "base_uri": "https://localhost:8080/"
        },
        "id": "pW74GgHlkmjY",
        "outputId": "6c4b27da-735c-4bf8-e13b-b1765d39519e"
      },
      "execution_count": 6,
      "outputs": [
        {
          "output_type": "execute_result",
          "data": {
            "text/plain": [
              "2022    893\n",
              "2021    227\n",
              "2020     75\n",
              "Name: work_year, dtype: int64"
            ]
          },
          "metadata": {},
          "execution_count": 6
        }
      ]
    },
    {
      "cell_type": "markdown",
      "source": [
        "No erroneous data here."
      ],
      "metadata": {
        "id": "PSaKPRoIk-y5"
      }
    },
    {
      "cell_type": "code",
      "source": [
        "df['experience_level'].value_counts()"
      ],
      "metadata": {
        "colab": {
          "base_uri": "https://localhost:8080/"
        },
        "id": "bxtMhUVvlCWp",
        "outputId": "4e7400af-8a59-4a32-ea7e-f5b0bf9d29a6"
      },
      "execution_count": 7,
      "outputs": [
        {
          "output_type": "execute_result",
          "data": {
            "text/plain": [
              "SE    702\n",
              "MI    314\n",
              "EN    138\n",
              "EX     41\n",
              "Name: experience_level, dtype: int64"
            ]
          },
          "metadata": {},
          "execution_count": 7
        }
      ]
    },
    {
      "cell_type": "markdown",
      "source": [
        "looks good!"
      ],
      "metadata": {
        "id": "ICl4oHxglw_H"
      }
    },
    {
      "cell_type": "code",
      "source": [
        "df['employment_type'].value_counts()"
      ],
      "metadata": {
        "colab": {
          "base_uri": "https://localhost:8080/"
        },
        "id": "8eZ--f3SlzBy",
        "outputId": "2ad22965-d321-453f-da1a-81f5cf2c899e"
      },
      "execution_count": 8,
      "outputs": [
        {
          "output_type": "execute_result",
          "data": {
            "text/plain": [
              "FT    1170\n",
              "PT      12\n",
              "CT       8\n",
              "FL       5\n",
              "Name: employment_type, dtype: int64"
            ]
          },
          "metadata": {},
          "execution_count": 8
        }
      ]
    },
    {
      "cell_type": "markdown",
      "source": [
        "Also looks good"
      ],
      "metadata": {
        "id": "HlDADk9Pl5-0"
      }
    },
    {
      "cell_type": "code",
      "source": [
        "df['job_title'].value_counts()"
      ],
      "metadata": {
        "colab": {
          "base_uri": "https://localhost:8080/"
        },
        "id": "wqYsigyQl8O-",
        "outputId": "8482b14e-d6aa-491d-8e4d-39baa6f33b38"
      },
      "execution_count": 9,
      "outputs": [
        {
          "output_type": "execute_result",
          "data": {
            "text/plain": [
              "Data Scientist               310\n",
              "Data Engineer                276\n",
              "Data Analyst                 162\n",
              "Machine Learning Engineer     78\n",
              "Analytics Engineer            37\n",
              "                            ... \n",
              "Power BI Developer             1\n",
              "Data Science Lead              1\n",
              "Big Data Architect             1\n",
              "Staff Data Scientist           1\n",
              "Finance Data Analyst           1\n",
              "Name: job_title, Length: 63, dtype: int64"
            ]
          },
          "metadata": {},
          "execution_count": 9
        }
      ]
    },
    {
      "cell_type": "markdown",
      "source": [
        "This will be an interesting one to one hot encode. I might seperate the data nad run the three top job titles seperately to see the figures. But still looking very clean"
      ],
      "metadata": {
        "id": "LQ7_vLBfmIxz"
      }
    },
    {
      "cell_type": "code",
      "source": [
        "df['salary_currency'].value_counts()"
      ],
      "metadata": {
        "colab": {
          "base_uri": "https://localhost:8080/"
        },
        "id": "R0DjoGE5mnNz",
        "outputId": "863157ca-4b06-4d89-89e7-58948005d37f"
      },
      "execution_count": 10,
      "outputs": [
        {
          "output_type": "execute_result",
          "data": {
            "text/plain": [
              "USD    892\n",
              "EUR    129\n",
              "GBP     76\n",
              "INR     40\n",
              "CAD     21\n",
              "AUD      8\n",
              "BRL      5\n",
              "PLN      3\n",
              "TRY      3\n",
              "JPY      3\n",
              "SGD      3\n",
              "DKK      3\n",
              "CNY      2\n",
              "HUF      2\n",
              "MXN      2\n",
              "CHF      1\n",
              "CZK      1\n",
              "CLP      1\n",
              "Name: salary_currency, dtype: int64"
            ]
          },
          "metadata": {},
          "execution_count": 10
        }
      ]
    },
    {
      "cell_type": "markdown",
      "source": [
        "Looks clean as well, also another vector to see if there is a correlation between salary level and currency."
      ],
      "metadata": {
        "id": "ib0pMba-mysO"
      }
    },
    {
      "cell_type": "code",
      "source": [
        "df['employee_residence'].value_counts()"
      ],
      "metadata": {
        "colab": {
          "base_uri": "https://localhost:8080/"
        },
        "id": "hCk0pxVem6Hf",
        "outputId": "384a0011-e3ab-42a1-e12f-b74a593eabf5"
      },
      "execution_count": 11,
      "outputs": [
        {
          "output_type": "execute_result",
          "data": {
            "text/plain": [
              "US    795\n",
              "GB     78\n",
              "IN     45\n",
              "CA     36\n",
              "DE     31\n",
              "     ... \n",
              "IE      1\n",
              "TH      1\n",
              "ID      1\n",
              "EG      1\n",
              "MT      1\n",
              "Name: employee_residence, Length: 64, dtype: int64"
            ]
          },
          "metadata": {},
          "execution_count": 11
        }
      ]
    },
    {
      "cell_type": "markdown",
      "source": [
        "looks clean"
      ],
      "metadata": {
        "id": "uq-Et1WYnU9T"
      }
    },
    {
      "cell_type": "code",
      "source": [
        "df['remote_ratio'].value_counts()"
      ],
      "metadata": {
        "colab": {
          "base_uri": "https://localhost:8080/"
        },
        "id": "o4d3nUvnnUIP",
        "outputId": "314b7495-2bc6-4992-ca67-2ee4d46689a6"
      },
      "execution_count": 12,
      "outputs": [
        {
          "output_type": "execute_result",
          "data": {
            "text/plain": [
              "100    730\n",
              "0      330\n",
              "50     135\n",
              "Name: remote_ratio, dtype: int64"
            ]
          },
          "metadata": {},
          "execution_count": 12
        }
      ]
    },
    {
      "cell_type": "code",
      "source": [
        "df['company_location'].value_counts()"
      ],
      "metadata": {
        "colab": {
          "base_uri": "https://localhost:8080/"
        },
        "id": "F2ztJ5LCneC5",
        "outputId": "b91583e0-ca26-41be-f994-ed0165008d32"
      },
      "execution_count": 13,
      "outputs": [
        {
          "output_type": "execute_result",
          "data": {
            "text/plain": [
              "US    823\n",
              "GB     82\n",
              "CA     37\n",
              "IN     36\n",
              "DE     35\n",
              "ES     24\n",
              "FR     19\n",
              "GR     13\n",
              "PT      9\n",
              "AU      9\n",
              "NL      9\n",
              "JP      6\n",
              "BR      6\n",
              "AT      5\n",
              "TR      5\n",
              "PR      4\n",
              "PL      4\n",
              "BE      4\n",
              "DK      4\n",
              "MX      3\n",
              "CZ      3\n",
              "SG      3\n",
              "NG      3\n",
              "PK      3\n",
              "LU      3\n",
              "AE      3\n",
              "RU      2\n",
              "CH      2\n",
              "SI      2\n",
              "CN      2\n",
              "IT      2\n",
              "AS      2\n",
              "ID      2\n",
              "UA      1\n",
              "IL      1\n",
              "HR      1\n",
              "VN      1\n",
              "MD      1\n",
              "CL      1\n",
              "IR      1\n",
              "NZ      1\n",
              "CO      1\n",
              "KE      1\n",
              "HU      1\n",
              "FI      1\n",
              "EG      1\n",
              "IE      1\n",
              "IQ      1\n",
              "RO      1\n",
              "DZ      1\n",
              "TH      1\n",
              "BO      1\n",
              "PH      1\n",
              "HN      1\n",
              "AL      1\n",
              "EE      1\n",
              "MY      1\n",
              "AR      1\n",
              "MT      1\n",
              "Name: company_location, dtype: int64"
            ]
          },
          "metadata": {},
          "execution_count": 13
        }
      ]
    },
    {
      "cell_type": "markdown",
      "source": [
        "This follows the ISO Country Codes. Will be interesting to convert to numbers. I wonder if there is a standardized system for machine learning."
      ],
      "metadata": {
        "id": "_st9FsMcnuw6"
      }
    },
    {
      "cell_type": "code",
      "source": [
        "df['company_size'].value_counts()"
      ],
      "metadata": {
        "colab": {
          "base_uri": "https://localhost:8080/"
        },
        "id": "a2RxAuHWn4sZ",
        "outputId": "947aaeb5-e68a-4fb6-c5e7-de3c99667707"
      },
      "execution_count": 14,
      "outputs": [
        {
          "output_type": "execute_result",
          "data": {
            "text/plain": [
              "M    774\n",
              "L    310\n",
              "S    111\n",
              "Name: company_size, dtype: int64"
            ]
          },
          "metadata": {},
          "execution_count": 14
        }
      ]
    },
    {
      "cell_type": "markdown",
      "source": [
        "Also looks clean!"
      ],
      "metadata": {
        "id": "A9jLWmVCoA0W"
      }
    },
    {
      "cell_type": "code",
      "source": [
        "import numpy as np\n",
        "import matplotlib.pyplot as plt\n",
        "import seaborn as sns"
      ],
      "metadata": {
        "id": "JP1qwbX4oCut"
      },
      "execution_count": 15,
      "outputs": []
    },
    {
      "cell_type": "code",
      "source": [
        "df['salary_in_usd'].hist();"
      ],
      "metadata": {
        "colab": {
          "base_uri": "https://localhost:8080/",
          "height": 265
        },
        "id": "pwLUhYnto57w",
        "outputId": "8a7382dc-3df4-49d1-892c-d53ed3ba8ef4"
      },
      "execution_count": 16,
      "outputs": [
        {
          "output_type": "display_data",
          "data": {
            "text/plain": [
              "<Figure size 432x288 with 1 Axes>"
            ],
            "image/png": "[encoded data removed]"
          },
          "metadata": {
            "needs_background": "light"
          }
        }
      ]
    },
    {
      "cell_type": "markdown",
      "source": [
        "Wow thats already pretty cool. Shows that people working with AI and Machine Learning mostly make arround 100k"
      ],
      "metadata": {
        "id": "v0VqVKEfpGM-"
      }
    },
    {
      "cell_type": "code",
      "source": [
        "df.boxplot('salary_in_usd');"
      ],
      "metadata": {
        "colab": {
          "base_uri": "https://localhost:8080/",
          "height": 266
        },
        "id": "A6Lg8ln2pPNy",
        "outputId": "d5682024-176b-4fcb-f183-c9114edb1319"
      },
      "execution_count": 17,
      "outputs": [
        {
          "output_type": "display_data",
          "data": {
            "text/plain": [
              "<Figure size 432x288 with 1 Axes>"
            ],
            "image/png": "[encoded data removed]"
          },
          "metadata": {
            "needs_background": "light"
          }
        }
      ]
    },
    {
      "cell_type": "markdown",
      "source": [
        "Good to see that there are no low outliers lol."
      ],
      "metadata": {
        "id": "QLfUGhiDpl2m"
      }
    },
    {
      "cell_type": "code",
      "source": [
        "import seaborn as sns\n",
        "corr = df.corr()\n",
        "sns.heatmap(corr, cmap = 'Blues')"
      ],
      "metadata": {
        "colab": {
          "base_uri": "https://localhost:8080/",
          "height": 288
        },
        "id": "IuqG1FwUk46j",
        "outputId": "92a9cdd0-5c9a-4280-8d72-382c16b9ea1e"
      },
      "execution_count": 18,
      "outputs": [
        {
          "output_type": "execute_result",
          "data": {
            "text/plain": [
              "<matplotlib.axes._subplots.AxesSubplot at 0x7f969d625850>"
            ]
          },
          "metadata": {},
          "execution_count": 18
        },
        {
          "output_type": "display_data",
          "data": {
            "text/plain": [
              "<Figure size 432x288 with 2 Axes>"
            ],
            "image/png": "[encoded data removed]"
          },
          "metadata": {
            "needs_background": "light"
          }
        }
      ]
    },
    {
      "cell_type": "markdown",
      "source": [
        "The only correlation of note is the salary in USD to work year. It has the highest correlation. Regular salary can be ignored as it is in several currencies."
      ],
      "metadata": {
        "id": "01NJDRGLlifq"
      }
    },
    {
      "cell_type": "code",
      "source": [
        "paybyexp = df.groupby(['experience_level'])['salary_in_usd'].nunique()\n",
        "paybyexp"
      ],
      "metadata": {
        "colab": {
          "base_uri": "https://localhost:8080/"
        },
        "id": "NG6UeHEbqWSZ",
        "outputId": "3323f3b0-45b6-4bf2-930e-14baeb8b9a26"
      },
      "execution_count": 19,
      "outputs": [
        {
          "output_type": "execute_result",
          "data": {
            "text/plain": [
              "experience_level\n",
              "EN    106\n",
              "EX     37\n",
              "MI    207\n",
              "SE    303\n",
              "Name: salary_in_usd, dtype: int64"
            ]
          },
          "metadata": {},
          "execution_count": 19
        }
      ]
    },
    {
      "cell_type": "code",
      "source": [
        "salaries = df.groupby('experience_level')['salary_in_usd'].mean()\n",
        "salaries"
      ],
      "metadata": {
        "colab": {
          "base_uri": "https://localhost:8080/"
        },
        "id": "RdmDSkfCp21X",
        "outputId": "30eee6ec-96e5-4ffc-e3e1-c023c95e5d72"
      },
      "execution_count": 20,
      "outputs": [
        {
          "output_type": "execute_result",
          "data": {
            "text/plain": [
              "experience_level\n",
              "EN     58445.355072\n",
              "EX    195607.414634\n",
              "MI     90290.748408\n",
              "SE    144448.015670\n",
              "Name: salary_in_usd, dtype: float64"
            ]
          },
          "metadata": {},
          "execution_count": 20
        }
      ]
    },
    {
      "cell_type": "code",
      "source": [
        "explevel = list(paybyexp.index)\n",
        "explevel"
      ],
      "metadata": {
        "colab": {
          "base_uri": "https://localhost:8080/"
        },
        "id": "iK4JU2o-svXj",
        "outputId": "3b070c29-b4d9-4d0f-941b-214348de3456"
      },
      "execution_count": 21,
      "outputs": [
        {
          "output_type": "execute_result",
          "data": {
            "text/plain": [
              "['EN', 'EX', 'MI', 'SE']"
            ]
          },
          "metadata": {},
          "execution_count": 21
        }
      ]
    },
    {
      "cell_type": "code",
      "source": [
        "plt = sns.barplot(explevel, salaries, order=['EN','MI','SE','EX']);\n",
        "plt.set(xlabel=\"Experience Level\", ylabel='Salary in USD')\n",
        "plt.set_xticklabels(['Entry','Middle','Senior','Executive'])"
      ],
      "metadata": {
        "id": "wWeXtWs0owl6",
        "outputId": "4d5d1ce5-65e4-4955-f101-302e955c4ce4",
        "colab": {
          "base_uri": "https://localhost:8080/",
          "height": 406
        }
      },
      "execution_count": 22,
      "outputs": [
        {
          "output_type": "stream",
          "name": "stderr",
          "text": [
            "/usr/local/lib/python3.8/dist-packages/seaborn/_decorators.py:36: FutureWarning: Pass the following variables as keyword args: x, y. From version 0.12, the only valid positional argument will be `data`, and passing other arguments without an explicit keyword will result in an error or misinterpretation.\n",
            "  warnings.warn(\n"
          ]
        },
        {
          "output_type": "execute_result",
          "data": {
            "text/plain": [
              "[Text(0, 0, 'Entry'),\n",
              " Text(0, 0, 'Middle'),\n",
              " Text(0, 0, 'Senior'),\n",
              " Text(0, 0, 'Executive')]"
            ]
          },
          "metadata": {},
          "execution_count": 22
        },
        {
          "output_type": "display_data",
          "data": {
            "text/plain": [
              "<Figure size 432x288 with 1 Axes>"
            ],
            "image/png": "[encoded data removed]"
          },
          "metadata": {
            "needs_background": "light"
          }
        }
      ]
    },
    {
      "cell_type": "markdown",
      "source": [
        "This graph shows the average salaries by experience level. Excutive level positions pay the most."
      ],
      "metadata": {
        "id": "dcAvfcutytyG"
      }
    },
    {
      "cell_type": "code",
      "source": [
        "paybycur = df.groupby(['salary_currency'])['salary_in_usd'].nunique()\n",
        "paybycur"
      ],
      "metadata": {
        "colab": {
          "base_uri": "https://localhost:8080/"
        },
        "id": "ooPvQkIkYJpm",
        "outputId": "429241f3-d297-47e1-bb44-af6a609feafd"
      },
      "execution_count": 23,
      "outputs": [
        {
          "output_type": "execute_result",
          "data": {
            "text/plain": [
              "salary_currency\n",
              "AUD      7\n",
              "BRL      5\n",
              "CAD     20\n",
              "CHF      1\n",
              "CLP      1\n",
              "CNY      2\n",
              "CZK      1\n",
              "DKK      3\n",
              "EUR     89\n",
              "GBP     42\n",
              "HUF      2\n",
              "INR     35\n",
              "JPY      3\n",
              "MXN      2\n",
              "PLN      3\n",
              "SGD      3\n",
              "TRY      3\n",
              "USD    316\n",
              "Name: salary_in_usd, dtype: int64"
            ]
          },
          "metadata": {},
          "execution_count": 23
        }
      ]
    },
    {
      "cell_type": "code",
      "source": [
        "currencyeqv = df.groupby('salary_currency')['salary_in_usd'].mean()\n",
        "currencyeqv"
      ],
      "metadata": {
        "colab": {
          "base_uri": "https://localhost:8080/"
        },
        "id": "Fs8dgv-7YwOy",
        "outputId": "9fc99144-ace6-4e6d-9358-53f32968213c"
      },
      "execution_count": 24,
      "outputs": [
        {
          "output_type": "execute_result",
          "data": {
            "text/plain": [
              "salary_currency\n",
              "AUD     75508.750000\n",
              "BRL      9673.800000\n",
              "CAD    100145.714286\n",
              "CHF    120334.000000\n",
              "CLP     40038.000000\n",
              "CNY     39696.500000\n",
              "CZK      5149.000000\n",
              "DKK     31192.666667\n",
              "EUR     64394.829457\n",
              "GBP     82937.302632\n",
              "HUF     35997.000000\n",
              "INR     26438.050000\n",
              "JPY     60921.333333\n",
              "MXN     18185.000000\n",
              "PLN     36268.666667\n",
              "SGD     91182.333333\n",
              "TRY     20096.666667\n",
              "USD    141640.933857\n",
              "Name: salary_in_usd, dtype: float64"
            ]
          },
          "metadata": {},
          "execution_count": 24
        }
      ]
    },
    {
      "cell_type": "code",
      "source": [
        "currency = list(paybycur.index)\n",
        "currency"
      ],
      "metadata": {
        "colab": {
          "base_uri": "https://localhost:8080/"
        },
        "id": "FZat3QPCaG2L",
        "outputId": "cca22ca6-2052-45dd-c332-caa2ff0df009"
      },
      "execution_count": 25,
      "outputs": [
        {
          "output_type": "execute_result",
          "data": {
            "text/plain": [
              "['AUD',\n",
              " 'BRL',\n",
              " 'CAD',\n",
              " 'CHF',\n",
              " 'CLP',\n",
              " 'CNY',\n",
              " 'CZK',\n",
              " 'DKK',\n",
              " 'EUR',\n",
              " 'GBP',\n",
              " 'HUF',\n",
              " 'INR',\n",
              " 'JPY',\n",
              " 'MXN',\n",
              " 'PLN',\n",
              " 'SGD',\n",
              " 'TRY',\n",
              " 'USD']"
            ]
          },
          "metadata": {},
          "execution_count": 25
        }
      ]
    },
    {
      "cell_type": "code",
      "source": [
        "sns.set(rc={'figure.figsize':(12,9)})\n",
        "ax = sns.barplot(currency, currencyeqv,)\n",
        "ax.set(xlabel=\"Original Currency\", ylabel='Salary in USD')"
      ],
      "metadata": {
        "colab": {
          "base_uri": "https://localhost:8080/",
          "height": 631
        },
        "id": "AAC38YNKZBpC",
        "outputId": "49b03693-8098-4e30-a8fd-20c3605afae7"
      },
      "execution_count": 26,
      "outputs": [
        {
          "output_type": "stream",
          "name": "stderr",
          "text": [
            "/usr/local/lib/python3.8/dist-packages/seaborn/_decorators.py:36: FutureWarning: Pass the following variables as keyword args: x, y. From version 0.12, the only valid positional argument will be `data`, and passing other arguments without an explicit keyword will result in an error or misinterpretation.\n",
            "  warnings.warn(\n"
          ]
        },
        {
          "output_type": "execute_result",
          "data": {
            "text/plain": [
              "[Text(0, 0.5, 'Salary in USD'), Text(0.5, 0, 'Original Currency')]"
            ]
          },
          "metadata": {},
          "execution_count": 26
        },
        {
          "output_type": "display_data",
          "data": {
            "text/plain": [
              "<Figure size 864x648 with 1 Axes>"
            ],
            "image/png": "[encoded data removed]"
          },
          "metadata": {}
        }
      ]
    },
    {
      "cell_type": "code",
      "source": [
        "df.info()"
      ],
      "metadata": {
        "id": "mzeXRe4GnzzX",
        "outputId": "0177c825-912c-47ed-9626-6a9afbe9d880",
        "colab": {
          "base_uri": "https://localhost:8080/"
        }
      },
      "execution_count": 27,
      "outputs": [
        {
          "output_type": "stream",
          "name": "stdout",
          "text": [
            "<class 'pandas.core.frame.DataFrame'>\n",
            "RangeIndex: 1195 entries, 0 to 1194\n",
            "Data columns (total 11 columns):\n",
            " #   Column              Non-Null Count  Dtype \n",
            "---  ------              --------------  ----- \n",
            " 0   work_year           1195 non-null   int64 \n",
            " 1   experience_level    1195 non-null   object\n",
            " 2   employment_type     1195 non-null   object\n",
            " 3   job_title           1195 non-null   object\n",
            " 4   salary              1195 non-null   int64 \n",
            " 5   salary_currency     1195 non-null   object\n",
            " 6   salary_in_usd       1195 non-null   int64 \n",
            " 7   employee_residence  1195 non-null   object\n",
            " 8   remote_ratio        1195 non-null   int64 \n",
            " 9   company_location    1195 non-null   object\n",
            " 10  company_size        1195 non-null   object\n",
            "dtypes: int64(4), object(7)\n",
            "memory usage: 102.8+ KB\n"
          ]
        }
      ]
    },
    {
      "cell_type": "code",
      "source": [
        "from sklearn.model_selection import train_test_split\n",
        "from sklearn.linear_model import LinearRegression, LogisticRegression\n",
        "from sklearn.preprocessing import PolynomialFeatures, StandardScaler, OneHotEncoder\n",
        "from sklearn.impute import SimpleImputer\n",
        "from sklearn.compose import make_column_transformer, make_column_selector\n",
        "from sklearn.pipeline import make_pipeline\n",
        "from sklearn.neighbors import KNeighborsClassifier\n",
        "from sklearn.decomposition import PCA\n",
        "from sklearn.metrics import mean_absolute_error, r2_score, mean_squared_error, \\\n",
        "precision_score, recall_score, accuracy_score, f1_score, ConfusionMatrixDisplay, \\\n",
        "classification_report"
      ],
      "metadata": {
        "id": "uNAT4O9RonVF"
      },
      "execution_count": 38,
      "outputs": []
    },
    {
      "cell_type": "code",
      "source": [
        "X = df.drop(columns=['salary_in_usd'])\n",
        "y = df['salary_in_usd']\n",
        "\n",
        "X_train, X_test, y_train, y_test =  train_test_split(X, y, random_state=42)"
      ],
      "metadata": {
        "id": "sKMVxbH_osVN"
      },
      "execution_count": 39,
      "outputs": []
    },
    {
      "cell_type": "code",
      "source": [
        "scaler = StandardScaler()\n",
        "ohe = OneHotEncoder(sparse=False, handle_unknown='ignore')\n",
        "\n",
        "median_imputer = SimpleImputer(strategy='median')\n",
        "missing_imputer = SimpleImputer(strategy='constant', fill_value='missing')\n",
        "\n",
        "cat_cols = make_column_selector(dtype_include='object')\n",
        "num_cols = make_column_selector(dtype_include='number')\n",
        "\n",
        "num_pipe = make_pipeline(median_imputer, scaler)\n",
        "cat_pipe = make_pipeline(missing_imputer, ohe)\n",
        "\n",
        "processor = make_column_transformer((num_pipe, num_cols), (cat_pipe, cat_cols))"
      ],
      "metadata": {
        "id": "rgvcTeOroZG7"
      },
      "execution_count": 40,
      "outputs": []
    },
    {
      "cell_type": "markdown",
      "source": [
        "Lets try linear regression and see how well it does on this dataset!"
      ],
      "metadata": {
        "id": "Lk7gd0DzpMEH"
      }
    },
    {
      "cell_type": "code",
      "source": [
        "scores = pd.DataFrame()\n",
        "\n",
        "linreg2 = LinearRegression()\n",
        "lin_pipe2 = make_pipeline(processor, logreg2)\n",
        "lin_pipe2.fit(X_train, y_train)\n",
        "\n",
        "train_pred = lin_pipe2.predict(X_train)\n",
        "test_pred = lin_pipe2.predict(X_test)"
      ],
      "metadata": {
        "id": "gRU_htLapDQ2",
        "outputId": "a8c67e6d-5659-4b56-aa35-cd3845d96f1b",
        "colab": {
          "base_uri": "https://localhost:8080/"
        }
      },
      "execution_count": 41,
      "outputs": [
        {
          "output_type": "stream",
          "name": "stderr",
          "text": [
            "/usr/local/lib/python3.8/dist-packages/sklearn/linear_model/_logistic.py:814: ConvergenceWarning: lbfgs failed to converge (status=1):\n",
            "STOP: TOTAL NO. of ITERATIONS REACHED LIMIT.\n",
            "\n",
            "Increase the number of iterations (max_iter) or scale the data as shown in:\n",
            "    https://scikit-learn.org/stable/modules/preprocessing.html\n",
            "Please also refer to the documentation for alternative solver options:\n",
            "    https://scikit-learn.org/stable/modules/linear_model.html#logistic-regression\n",
            "  n_iter_i = _check_optimize_result(\n"
          ]
        }
      ]
    },
    {
      "cell_type": "code",
      "source": [
        "def eval_regression(true, pred, name='Model'):\n",
        "  scores = pd.DataFrame()\n",
        "  scores['Model Name'] = [name]\n",
        "  scores['RMSE'] = [np.sqrt(mean_squared_error(true, pred))]\n",
        "  scores['MAE'] = [mean_absolute_error(true, pred)]\n",
        "  scores['R2'] = [r2_score(true, pred)]\n",
        "  return scores"
      ],
      "metadata": {
        "id": "WYDg-WmmrhWh"
      },
      "execution_count": null,
      "outputs": []
    },
    {
      "cell_type": "code",
      "source": [
        "train_scores = eval_regression(y_train, train_pred, name='Train')\n",
        "\n",
        "test_scores = eval_regression(y_test, test_pred, name='Test')\n",
        "\n",
        "scores = pd.concat([train_scores, test_scores])\n",
        "scores"
      ],
      "metadata": {
        "id": "t56ZgE8Cs1qD",
        "outputId": "cd183437-0bf1-498d-e0d1-964669769b36",
        "colab": {
          "base_uri": "https://localhost:8080/",
          "height": 112
        }
      },
      "execution_count": 42,
      "outputs": [
        {
          "output_type": "execute_result",
          "data": {
            "text/plain": [
              "  Model Name          RMSE           MAE        R2\n",
              "0      Train  52912.369091  31104.061384  0.373969\n",
              "0       Test  64950.898366  44604.939799  0.006913"
            ],
            "text/html": [
              "\n",
              "  <div id=\"df-dd5a06f5-dbec-40a3-aaec-045c1ba91bae\">\n",
              "    <div class=\"colab-df-container\">\n",
              "      <div>\n",
              "<style scoped>\n",
              "    .dataframe tbody tr th:only-of-type {\n",
              "        vertical-align: middle;\n",
              "    }\n",
              "\n",
              "    .dataframe tbody tr th {\n",
              "        vertical-align: top;\n",
              "    }\n",
              "\n",
              "    .dataframe thead th {\n",
              "        text-align: right;\n",
              "    }\n",
              "</style>\n",
              "<table border=\"1\" class=\"dataframe\">\n",
              "  <thead>\n",
              "    <tr style=\"text-align: right;\">\n",
              "      <th></th>\n",
              "      <th>Model Name</th>\n",
              "      <th>RMSE</th>\n",
              "      <th>MAE</th>\n",
              "      <th>R2</th>\n",
              "    </tr>\n",
              "  </thead>\n",
              "  <tbody>\n",
              "    <tr>\n",
              "      <th>0</th>\n",
              "      <td>Train</td>\n",
              "      <td>52912.369091</td>\n",
              "      <td>31104.061384</td>\n",
              "      <td>0.373969</td>\n",
              "    </tr>\n",
              "    <tr>\n",
              "      <th>0</th>\n",
              "      <td>Test</td>\n",
              "      <td>64950.898366</td>\n",
              "      <td>44604.939799</td>\n",
              "      <td>0.006913</td>\n",
              "    </tr>\n",
              "  </tbody>\n",
              "</table>\n",
              "</div>\n",
              "      <button class=\"colab-df-convert\" onclick=\"convertToInteractive('df-dd5a06f5-dbec-40a3-aaec-045c1ba91bae')\"\n",
              "              title=\"Convert this dataframe to an interactive table.\"\n",
              "              style=\"display:none;\">\n",
              "        \n",
              "  <svg xmlns=\"http://www.w3.org/2000/svg\" height=\"24px\"viewBox=\"0 0 24 24\"\n",
              "       width=\"24px\">\n",
              "    <path d=\"M0 0h24v24H0V0z\" fill=\"none\"/>\n",
              "    <path d=\"M18.56 5.44l.94 2.06.94-2.06 2.06-.94-2.06-.94-.94-2.06-.94 2.06-2.06.94zm-11 1L8.5 8.5l.94-2.06 2.06-.94-2.06-.94L8.5 2.5l-.94 2.06-2.06.94zm10 10l.94 2.06.94-2.06 2.06-.94-2.06-.94-.94-2.06-.94 2.06-2.06.94z\"/><path d=\"M17.41 7.96l-1.37-1.37c-.4-.4-.92-.59-1.43-.59-.52 0-1.04.2-1.43.59L10.3 9.45l-7.72 7.72c-.78.78-.78 2.05 0 2.83L4 21.41c.39.39.9.59 1.41.59.51 0 1.02-.2 1.41-.59l7.78-7.78 2.81-2.81c.8-.78.8-2.07 0-2.86zM5.41 20L4 18.59l7.72-7.72 1.47 1.35L5.41 20z\"/>\n",
              "  </svg>\n",
              "      </button>\n",
              "      \n",
              "  <style>\n",
              "    .colab-df-container {\n",
              "      display:flex;\n",
              "      flex-wrap:wrap;\n",
              "      gap: 12px;\n",
              "    }\n",
              "\n",
              "    .colab-df-convert {\n",
              "      background-color: #E8F0FE;\n",
              "      border: none;\n",
              "      border-radius: 50%;\n",
              "      cursor: pointer;\n",
              "      display: none;\n",
              "      fill: #1967D2;\n",
              "      height: 32px;\n",
              "      padding: 0 0 0 0;\n",
              "      width: 32px;\n",
              "    }\n",
              "\n",
              "    .colab-df-convert:hover {\n",
              "      background-color: #E2EBFA;\n",
              "      box-shadow: 0px 1px 2px rgba(60, 64, 67, 0.3), 0px 1px 3px 1px rgba(60, 64, 67, 0.15);\n",
              "      fill: #174EA6;\n",
              "    }\n",
              "\n",
              "    [theme=dark] .colab-df-convert {\n",
              "      background-color: #3B4455;\n",
              "      fill: #D2E3FC;\n",
              "    }\n",
              "\n",
              "    [theme=dark] .colab-df-convert:hover {\n",
              "      background-color: #434B5C;\n",
              "      box-shadow: 0px 1px 3px 1px rgba(0, 0, 0, 0.15);\n",
              "      filter: drop-shadow(0px 1px 2px rgba(0, 0, 0, 0.3));\n",
              "      fill: #FFFFFF;\n",
              "    }\n",
              "  </style>\n",
              "\n",
              "      <script>\n",
              "        const buttonEl =\n",
              "          document.querySelector('#df-dd5a06f5-dbec-40a3-aaec-045c1ba91bae button.colab-df-convert');\n",
              "        buttonEl.style.display =\n",
              "          google.colab.kernel.accessAllowed ? 'block' : 'none';\n",
              "\n",
              "        async function convertToInteractive(key) {\n",
              "          const element = document.querySelector('#df-dd5a06f5-dbec-40a3-aaec-045c1ba91bae');\n",
              "          const dataTable =\n",
              "            await google.colab.kernel.invokeFunction('convertToInteractive',\n",
              "                                                     [key], {});\n",
              "          if (!dataTable) return;\n",
              "\n",
              "          const docLinkHtml = 'Like what you see? Visit the ' +\n",
              "            '<a target=\"_blank\" href=https://colab.research.google.com/notebooks/data_table.ipynb>data table notebook</a>'\n",
              "            + ' to learn more about interactive tables.';\n",
              "          element.innerHTML = '';\n",
              "          dataTable['output_type'] = 'display_data';\n",
              "          await google.colab.output.renderOutput(dataTable, element);\n",
              "          const docLink = document.createElement('div');\n",
              "          docLink.innerHTML = docLinkHtml;\n",
              "          element.appendChild(docLink);\n",
              "        }\n",
              "      </script>\n",
              "    </div>\n",
              "  </div>\n",
              "  "
            ]
          },
          "metadata": {},
          "execution_count": 42
        }
      ]
    },
    {
      "cell_type": "markdown",
      "source": [
        "This is not a good fit so far. Lets try another model! On to KNeighbors"
      ],
      "metadata": {
        "id": "seLhKNV7tXkX"
      }
    },
    {
      "cell_type": "code",
      "source": [
        "knn = KNeighborsClassifier(n_neighbors=1)"
      ],
      "metadata": {
        "id": "AwmPotwRuAAQ"
      },
      "execution_count": 43,
      "outputs": []
    },
    {
      "cell_type": "code",
      "source": [
        "knn_pipe = make_pipeline(processor, knn)\n",
        "knn_pipe.fit(X_train, y_train)"
      ],
      "metadata": {
        "id": "8Hst4VSNuUf-",
        "outputId": "101651cc-dcef-432f-9995-e6ff207857e5",
        "colab": {
          "base_uri": "https://localhost:8080/"
        }
      },
      "execution_count": 44,
      "outputs": [
        {
          "output_type": "execute_result",
          "data": {
            "text/plain": [
              "Pipeline(steps=[('columntransformer',\n",
              "                 ColumnTransformer(transformers=[('pipeline-1',\n",
              "                                                  Pipeline(steps=[('simpleimputer',\n",
              "                                                                   SimpleImputer(strategy='median')),\n",
              "                                                                  ('standardscaler',\n",
              "                                                                   StandardScaler())]),\n",
              "                                                  <sklearn.compose._column_transformer.make_column_selector object at 0x7f969ad34250>),\n",
              "                                                 ('pipeline-2',\n",
              "                                                  Pipeline(steps=[('simpleimputer',\n",
              "                                                                   SimpleImputer(fill_value='missing',\n",
              "                                                                                 strategy='constant')),\n",
              "                                                                  ('onehotencoder',\n",
              "                                                                   OneHotEncoder(handle_unknown='ignore',\n",
              "                                                                                 sparse=False))]),\n",
              "                                                  <sklearn.compose._column_transformer.make_column_selector object at 0x7f969ad340a0>)])),\n",
              "                ('kneighborsclassifier', KNeighborsClassifier(n_neighbors=1))])"
            ]
          },
          "metadata": {},
          "execution_count": 44
        }
      ]
    },
    {
      "cell_type": "code",
      "source": [
        "predictions = knn_pipe.predict(X_test)\n",
        "predictions"
      ],
      "metadata": {
        "id": "W-E5bxboulse",
        "outputId": "76c2175e-adb4-4765-92f0-4ddcefdf8844",
        "colab": {
          "base_uri": "https://localhost:8080/"
        }
      },
      "execution_count": 45,
      "outputs": [
        {
          "output_type": "execute_result",
          "data": {
            "text/plain": [
              "array([ 93332, 135000, 103691, 270000, 185900, 115000,  49777,  30000,\n",
              "        36980,  85700, 131300, 188100, 150000, 154600, 135000,  74378,\n",
              "       205000,  68443,  61300, 220000, 110000,  73961, 140000,  73961,\n",
              "       189650,  93332,  53877,  60000,  87000, 170000, 174000, 160000,\n",
              "       120000, 150000,   2859, 140000,  31697, 213120,  73961, 112300,\n",
              "        63000, 220110,  35735, 110925, 175000, 102100, 119465,  62000,\n",
              "       129300,   6072, 225000,  43555, 191475, 230000,  97500, 147000,\n",
              "       138000,  31697, 106800,  66036, 155000, 165000, 103755, 148800,\n",
              "       174000,  89294, 139000, 200000, 185000,  63395, 200000,  74378,\n",
              "        42263, 144100,  85000, 150000,  52829, 180000, 102100, 155000,\n",
              "       144000, 158200, 141525, 112900, 100000,  68443, 165400, 150260,\n",
              "       115934, 124270, 131300,  98000, 152500,  30112,  55000, 180000,\n",
              "       191475, 150000, 173000, 214000,  91000, 120000,  99703, 180000,\n",
              "       138350, 120000, 178800, 179400, 141525, 115000,  23164,  26005,\n",
              "        31697, 115000,   6298,  80000, 173000, 200000,  93332, 164996,\n",
              "       115000, 380000, 141300, 130000, 100000, 160000, 150000, 123000,\n",
              "         6072, 158200, 191475, 135000, 130000, 210000,  60000, 110000,\n",
              "       150000, 160000, 200000,  82528, 100000,  56256, 110600,  96520,\n",
              "       160000, 141525,  73000,  90320,  61300, 115000, 105000, 109000,\n",
              "       132320, 115000,  75000, 141525, 160000, 175100, 141525, 120160,\n",
              "       189500, 600000, 112900, 126500, 103287, 180000, 155000, 297500,\n",
              "        50000,  68443, 210000, 120000, 135000, 191475, 150000,  74665,\n",
              "        61300, 170000, 180000, 141300, 135000, 100000,  82528,  50000,\n",
              "        74665,  50000,  68443, 147800, 103691,  80893,  63000, 220110,\n",
              "       135000, 200000, 200000, 129300, 250000, 160000, 124270,  85000,\n",
              "       130000,  37332, 145000, 179400, 138000, 130000,   2324, 135000,\n",
              "       140000,  46759, 141525, 169000,  98000,  84527,  37825,  70139,\n",
              "       191475,  53877, 160000, 175000,  91000,  46597, 111775,  82528,\n",
              "       130000, 119300, 120000, 135000, 126500, 176000,  75050,  77477,\n",
              "        16228,  94564, 102100,  74665,  85000,  73000,  63395,  88654,\n",
              "       111998,  98000, 190200, 250000, 140000,  58000,  65000, 176000,\n",
              "       200000,  91000, 150000,  95000, 124270, 131300, 112000, 131300,\n",
              "       102100, 192600,  87110,  90000,  40570,  80000, 164996, 102100,\n",
              "       167875,  62221, 105400,  50000,  90734,  63831,  90320,  37332,\n",
              "       230000,  63000,  88100, 185000, 170000,  80000, 160000, 160000,\n",
              "       118220,  56256, 176000,  93332,  19609,  99100, 210000,  76074,\n",
              "       117000,  54000, 180000,  31697, 250000,  38400, 135000, 250000,\n",
              "       150075, 203500, 202900])"
            ]
          },
          "metadata": {},
          "execution_count": 45
        }
      ]
    },
    {
      "cell_type": "code",
      "source": [
        "acc_score = knn_pipe.score(X_test, y_test)\n",
        "acc_score"
      ],
      "metadata": {
        "id": "2hB-zBPXupnq",
        "outputId": "1c4abd26-4c2f-4906-ebcf-8ada5deb24dd",
        "colab": {
          "base_uri": "https://localhost:8080/"
        }
      },
      "execution_count": 46,
      "outputs": [
        {
          "output_type": "execute_result",
          "data": {
            "text/plain": [
              "0.2608695652173913"
            ]
          },
          "metadata": {},
          "execution_count": 46
        }
      ]
    },
    {
      "cell_type": "markdown",
      "source": [
        "Thats not particualrly good lets try to mess with hyperparameters"
      ],
      "metadata": {
        "id": "ZDqvLMLfu4UZ"
      }
    },
    {
      "cell_type": "code",
      "source": [
        "knn = KNeighborsClassifier(n_neighbors=4)\n",
        "knn_pipe = make_pipeline(processor, knn)\n",
        "knn_pipe.fit(X_train, y_train)"
      ],
      "metadata": {
        "id": "AeIc4sUMu_FC",
        "outputId": "2f1f5473-8a64-40c7-ba41-61bcf20b686f",
        "colab": {
          "base_uri": "https://localhost:8080/"
        }
      },
      "execution_count": 48,
      "outputs": [
        {
          "output_type": "execute_result",
          "data": {
            "text/plain": [
              "Pipeline(steps=[('columntransformer',\n",
              "                 ColumnTransformer(transformers=[('pipeline-1',\n",
              "                                                  Pipeline(steps=[('simpleimputer',\n",
              "                                                                   SimpleImputer(strategy='median')),\n",
              "                                                                  ('standardscaler',\n",
              "                                                                   StandardScaler())]),\n",
              "                                                  <sklearn.compose._column_transformer.make_column_selector object at 0x7f969ad34250>),\n",
              "                                                 ('pipeline-2',\n",
              "                                                  Pipeline(steps=[('simpleimputer',\n",
              "                                                                   SimpleImputer(fill_value='missing',\n",
              "                                                                                 strategy='constant')),\n",
              "                                                                  ('onehotencoder',\n",
              "                                                                   OneHotEncoder(handle_unknown='ignore',\n",
              "                                                                                 sparse=False))]),\n",
              "                                                  <sklearn.compose._column_transformer.make_column_selector object at 0x7f969ad340a0>)])),\n",
              "                ('kneighborsclassifier', KNeighborsClassifier(n_neighbors=4))])"
            ]
          },
          "metadata": {},
          "execution_count": 48
        }
      ]
    },
    {
      "cell_type": "code",
      "source": [
        "predictions = knn_pipe.predict(X_test)\n",
        "predictions"
      ],
      "metadata": {
        "id": "R3mM1VN8wqP7",
        "outputId": "fc505fd1-70ea-4ee4-9c9e-3ab2af095d2b",
        "colab": {
          "base_uri": "https://localhost:8080/"
        }
      },
      "execution_count": 49,
      "outputs": [
        {
          "output_type": "execute_result",
          "data": {
            "text/plain": [
              "array([ 93332, 130000,  99703, 235000, 185900,  50000,  49777,  30000,\n",
              "        50716,  99000, 131300, 195700,  63000, 132100, 180000,  31697,\n",
              "       203500,  74665,  61300, 135000, 130000,  30112, 140000,  84527,\n",
              "       189650,  74665,  83964,  60000,  87000, 170000, 165000, 180000,\n",
              "       100000, 150000,   2859,  67000,   6298, 190000,  84527, 112300,\n",
              "        63000, 206699,  35735, 109280, 175000,  63000,  62221,  62000,\n",
              "       129300,   5707, 225000,  43555, 141525, 210000,  97500, 109000,\n",
              "        91000,  50000,  99360,  50716, 155000, 165000,  99554, 140000,\n",
              "       165000,  61467, 123400, 120000, 191475,  63395, 161342,  68180,\n",
              "        30112, 116000,  62000, 144000,  47546, 180000, 129300, 150000,\n",
              "       140000, 148700, 141525, 112900,  99450,  37332, 160395, 145000,\n",
              "       115000, 124270, 131300,  98000, 152500,  30112,  48000, 180000,\n",
              "       191475, 165000,  60000, 210000,  87000, 120000,  99703, 180000,\n",
              "       105000,  90000, 154600, 185900, 141525, 105000,   5409,  24823,\n",
              "        31697, 105000,   2429,  80000, 150000, 200000,  93332, 164996,\n",
              "       105000, 177600, 132320, 130000,  60000, 140400, 135000, 123000,\n",
              "         5707, 180000, 191475, 130000, 130000, 200000,   2859,  93000,\n",
              "        86000, 180000, 110000,  56256, 100000,  56256, 110600,  63711,\n",
              "       160000, 141525, 123400,  90320,  61300,  83000,  56000,  73000,\n",
              "       130000, 126000,  52000, 141525, 160000, 152500, 141525, 123000,\n",
              "        53877, 200000, 112900, 100000,  99554, 180000, 150000, 216000,\n",
              "        38000,  74665, 200000, 120000, 135000, 191475,  55000,  74665,\n",
              "        61300, 175000, 180000, 132320, 135000, 100000,  56256,  85000,\n",
              "        74665,  50000,  62221, 135000,  87738,  74665,  63000, 206699,\n",
              "       135000, 200000, 135000, 129300, 250000, 180000,  60000,   9272,\n",
              "       130000,  37332, 140400, 185900,  90000, 130000,   2324, 108000,\n",
              "       136100,  46759, 141525, 169000,  98000,  50716,  37825,  46759,\n",
              "       191475,  83964, 140400, 135000,  60000,  28476,  75000,  82528,\n",
              "       109280, 119300,  78000, 135000,  62000, 170000,  58000,  68180,\n",
              "        16228,  63831, 129300,  74665,  85000,  73000,  30112,  24823,\n",
              "       111998,  98000, 138000, 250000, 140000,  58000,  55000, 170000,\n",
              "       200000,  87000, 115000,  66000,  60000, 131300, 112000, 131300,\n",
              "       129300, 191475,  43555,  90000,  29751,  85000, 164996, 129300,\n",
              "       167875,  68443, 109280,  85000,  63831,  36643,  90320,  37332,\n",
              "       210000,  63000,  80000, 191475, 130000,  80000, 160000,  80000,\n",
              "        56256,  37332, 170000,  93332,  16228,  63000, 210000,  50716,\n",
              "       115000,  54000, 200000,  31697, 250000,  38400, 135000,  63000,\n",
              "       150075, 180000, 131300])"
            ]
          },
          "metadata": {},
          "execution_count": 49
        }
      ]
    },
    {
      "cell_type": "code",
      "source": [
        "acc_score = knn_pipe.score(X_test, y_test)\n",
        "acc_score"
      ],
      "metadata": {
        "id": "oKqyvWGUwwL5",
        "outputId": "a1cf7bb3-7420-45d1-b79b-309da0f0bdb5",
        "colab": {
          "base_uri": "https://localhost:8080/"
        }
      },
      "execution_count": 50,
      "outputs": [
        {
          "output_type": "execute_result",
          "data": {
            "text/plain": [
              "0.14046822742474915"
            ]
          },
          "metadata": {},
          "execution_count": 50
        }
      ]
    },
    {
      "cell_type": "markdown",
      "source": [],
      "metadata": {
        "id": "tKRjjZiaw5Al"
      }
    },
    {
      "cell_type": "markdown",
      "source": [
        "Hmm thats not good. More neighbors worse predictions. Lets try Logistic Regression"
      ],
      "metadata": {
        "id": "EGlvAAeqwxym"
      }
    },
    {
      "cell_type": "code",
      "source": [
        "logreg = LogisticRegression()"
      ],
      "metadata": {
        "id": "PVDy1Mm8xAqP"
      },
      "execution_count": 51,
      "outputs": []
    },
    {
      "cell_type": "code",
      "source": [
        "logreg_pipe = make_pipeline(processor, logreg)"
      ],
      "metadata": {
        "id": "J6HD879rxIqi"
      },
      "execution_count": 52,
      "outputs": []
    },
    {
      "cell_type": "code",
      "source": [
        "logreg_pipe.fit(X_train,y_train)"
      ],
      "metadata": {
        "id": "TRm8h6EYxS5_",
        "outputId": "6635b6a7-49a9-4131-dbae-22253e50bb40",
        "colab": {
          "base_uri": "https://localhost:8080/"
        }
      },
      "execution_count": 53,
      "outputs": [
        {
          "output_type": "stream",
          "name": "stderr",
          "text": [
            "/usr/local/lib/python3.8/dist-packages/sklearn/linear_model/_logistic.py:814: ConvergenceWarning: lbfgs failed to converge (status=1):\n",
            "STOP: TOTAL NO. of ITERATIONS REACHED LIMIT.\n",
            "\n",
            "Increase the number of iterations (max_iter) or scale the data as shown in:\n",
            "    https://scikit-learn.org/stable/modules/preprocessing.html\n",
            "Please also refer to the documentation for alternative solver options:\n",
            "    https://scikit-learn.org/stable/modules/linear_model.html#logistic-regression\n",
            "  n_iter_i = _check_optimize_result(\n"
          ]
        },
        {
          "output_type": "execute_result",
          "data": {
            "text/plain": [
              "Pipeline(steps=[('columntransformer',\n",
              "                 ColumnTransformer(transformers=[('pipeline-1',\n",
              "                                                  Pipeline(steps=[('simpleimputer',\n",
              "                                                                   SimpleImputer(strategy='median')),\n",
              "                                                                  ('standardscaler',\n",
              "                                                                   StandardScaler())]),\n",
              "                                                  <sklearn.compose._column_transformer.make_column_selector object at 0x7f969ad34250>),\n",
              "                                                 ('pipeline-2',\n",
              "                                                  Pipeline(steps=[('simpleimputer',\n",
              "                                                                   SimpleImputer(fill_value='missing',\n",
              "                                                                                 strategy='constant')),\n",
              "                                                                  ('onehotencoder',\n",
              "                                                                   OneHotEncoder(handle_unknown='ignore',\n",
              "                                                                                 sparse=False))]),\n",
              "                                                  <sklearn.compose._column_transformer.make_column_selector object at 0x7f969ad340a0>)])),\n",
              "                ('logisticregression', LogisticRegression())])"
            ]
          },
          "metadata": {},
          "execution_count": 53
        }
      ]
    }
  ]
}