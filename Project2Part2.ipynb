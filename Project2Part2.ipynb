{
  "nbformat": 4,
  "nbformat_minor": 0,
  "metadata": {
    "colab": {
      "provenance": [],
      "mount_file_id": "1jwBx3K-uVEBT6035xww82olvi121eqZw",
      "authorship_tag": "ABX9TyMNlz2iB8rxgBhxyjOMgN+k",
      "include_colab_link": true
    },
    "kernelspec": {
      "name": "python3",
      "display_name": "Python 3"
    },
    "language_info": {
      "name": "python"
    }
  },
  "cells": [
    {
      "cell_type": "markdown",
      "metadata": {
        "id": "view-in-github",
        "colab_type": "text"
      },
      "source": [
        "<a href=\"https://colab.research.google.com/github/sls3542/Project2/blob/main/Project2Part2.ipynb\" target=\"_parent\"><img src=\"https://colab.research.google.com/assets/colab-badge.svg\" alt=\"Open In Colab\"/></a>"
      ]
    },
    {
      "cell_type": "code",
      "execution_count": 1,
      "metadata": {
        "id": "DH7D9R5TWN0i"
      },
      "outputs": [],
      "source": [
        "import pandas as pd"
      ]
    },
    {
      "cell_type": "code",
      "source": [
        "path = \"/content/drive/MyDrive/Intermediate Machine Learning/salaries.csv\"\n",
        "df = pd.read_csv(path)\n",
        "df.head()"
      ],
      "metadata": {
        "colab": {
          "base_uri": "https://localhost:8080/",
          "height": 392
        },
        "id": "psfDDBdbd-yX",
        "outputId": "0e0c796b-3a84-4fd8-97cf-92464150c380"
      },
      "execution_count": 7,
      "outputs": [
        {
          "output_type": "execute_result",
          "data": {
            "text/plain": [
              "   work_year experience_level employment_type               job_title  salary  \\\n",
              "0       2022               SE              FT  Marketing Data Analyst  200000   \n",
              "1       2022               EN              FT          Data Scientist   96000   \n",
              "2       2022               SE              FT       Data Science Lead  165000   \n",
              "3       2022               EN              FT          Data Scientist   27000   \n",
              "4       2022               SE              FT           Data Engineer  185900   \n",
              "\n",
              "  salary_currency  salary_in_usd employee_residence  remote_ratio  \\\n",
              "0             USD         200000                 GB           100   \n",
              "1             CAD          74378                 CA           100   \n",
              "2             USD         165000                 US            50   \n",
              "3             GBP          33599                 GB            50   \n",
              "4             USD         185900                 US             0   \n",
              "\n",
              "  company_location company_size  \n",
              "0               GB            S  \n",
              "1               CA            L  \n",
              "2               US            S  \n",
              "3               GB            L  \n",
              "4               US            M  "
            ],
            "text/html": [
              "\n",
              "  <div id=\"df-1fcebccd-ad5d-4656-af33-0c23907df17f\">\n",
              "    <div class=\"colab-df-container\">\n",
              "      <div>\n",
              "<style scoped>\n",
              "    .dataframe tbody tr th:only-of-type {\n",
              "        vertical-align: middle;\n",
              "    }\n",
              "\n",
              "    .dataframe tbody tr th {\n",
              "        vertical-align: top;\n",
              "    }\n",
              "\n",
              "    .dataframe thead th {\n",
              "        text-align: right;\n",
              "    }\n",
              "</style>\n",
              "<table border=\"1\" class=\"dataframe\">\n",
              "  <thead>\n",
              "    <tr style=\"text-align: right;\">\n",
              "      <th></th>\n",
              "      <th>work_year</th>\n",
              "      <th>experience_level</th>\n",
              "      <th>employment_type</th>\n",
              "      <th>job_title</th>\n",
              "      <th>salary</th>\n",
              "      <th>salary_currency</th>\n",
              "      <th>salary_in_usd</th>\n",
              "      <th>employee_residence</th>\n",
              "      <th>remote_ratio</th>\n",
              "      <th>company_location</th>\n",
              "      <th>company_size</th>\n",
              "    </tr>\n",
              "  </thead>\n",
              "  <tbody>\n",
              "    <tr>\n",
              "      <th>0</th>\n",
              "      <td>2022</td>\n",
              "      <td>SE</td>\n",
              "      <td>FT</td>\n",
              "      <td>Marketing Data Analyst</td>\n",
              "      <td>200000</td>\n",
              "      <td>USD</td>\n",
              "      <td>200000</td>\n",
              "      <td>GB</td>\n",
              "      <td>100</td>\n",
              "      <td>GB</td>\n",
              "      <td>S</td>\n",
              "    </tr>\n",
              "    <tr>\n",
              "      <th>1</th>\n",
              "      <td>2022</td>\n",
              "      <td>EN</td>\n",
              "      <td>FT</td>\n",
              "      <td>Data Scientist</td>\n",
              "      <td>96000</td>\n",
              "      <td>CAD</td>\n",
              "      <td>74378</td>\n",
              "      <td>CA</td>\n",
              "      <td>100</td>\n",
              "      <td>CA</td>\n",
              "      <td>L</td>\n",
              "    </tr>\n",
              "    <tr>\n",
              "      <th>2</th>\n",
              "      <td>2022</td>\n",
              "      <td>SE</td>\n",
              "      <td>FT</td>\n",
              "      <td>Data Science Lead</td>\n",
              "      <td>165000</td>\n",
              "      <td>USD</td>\n",
              "      <td>165000</td>\n",
              "      <td>US</td>\n",
              "      <td>50</td>\n",
              "      <td>US</td>\n",
              "      <td>S</td>\n",
              "    </tr>\n",
              "    <tr>\n",
              "      <th>3</th>\n",
              "      <td>2022</td>\n",
              "      <td>EN</td>\n",
              "      <td>FT</td>\n",
              "      <td>Data Scientist</td>\n",
              "      <td>27000</td>\n",
              "      <td>GBP</td>\n",
              "      <td>33599</td>\n",
              "      <td>GB</td>\n",
              "      <td>50</td>\n",
              "      <td>GB</td>\n",
              "      <td>L</td>\n",
              "    </tr>\n",
              "    <tr>\n",
              "      <th>4</th>\n",
              "      <td>2022</td>\n",
              "      <td>SE</td>\n",
              "      <td>FT</td>\n",
              "      <td>Data Engineer</td>\n",
              "      <td>185900</td>\n",
              "      <td>USD</td>\n",
              "      <td>185900</td>\n",
              "      <td>US</td>\n",
              "      <td>0</td>\n",
              "      <td>US</td>\n",
              "      <td>M</td>\n",
              "    </tr>\n",
              "  </tbody>\n",
              "</table>\n",
              "</div>\n",
              "      <button class=\"colab-df-convert\" onclick=\"convertToInteractive('df-1fcebccd-ad5d-4656-af33-0c23907df17f')\"\n",
              "              title=\"Convert this dataframe to an interactive table.\"\n",
              "              style=\"display:none;\">\n",
              "        \n",
              "  <svg xmlns=\"http://www.w3.org/2000/svg\" height=\"24px\"viewBox=\"0 0 24 24\"\n",
              "       width=\"24px\">\n",
              "    <path d=\"M0 0h24v24H0V0z\" fill=\"none\"/>\n",
              "    <path d=\"M18.56 5.44l.94 2.06.94-2.06 2.06-.94-2.06-.94-.94-2.06-.94 2.06-2.06.94zm-11 1L8.5 8.5l.94-2.06 2.06-.94-2.06-.94L8.5 2.5l-.94 2.06-2.06.94zm10 10l.94 2.06.94-2.06 2.06-.94-2.06-.94-.94-2.06-.94 2.06-2.06.94z\"/><path d=\"M17.41 7.96l-1.37-1.37c-.4-.4-.92-.59-1.43-.59-.52 0-1.04.2-1.43.59L10.3 9.45l-7.72 7.72c-.78.78-.78 2.05 0 2.83L4 21.41c.39.39.9.59 1.41.59.51 0 1.02-.2 1.41-.59l7.78-7.78 2.81-2.81c.8-.78.8-2.07 0-2.86zM5.41 20L4 18.59l7.72-7.72 1.47 1.35L5.41 20z\"/>\n",
              "  </svg>\n",
              "      </button>\n",
              "      \n",
              "  <style>\n",
              "    .colab-df-container {\n",
              "      display:flex;\n",
              "      flex-wrap:wrap;\n",
              "      gap: 12px;\n",
              "    }\n",
              "\n",
              "    .colab-df-convert {\n",
              "      background-color: #E8F0FE;\n",
              "      border: none;\n",
              "      border-radius: 50%;\n",
              "      cursor: pointer;\n",
              "      display: none;\n",
              "      fill: #1967D2;\n",
              "      height: 32px;\n",
              "      padding: 0 0 0 0;\n",
              "      width: 32px;\n",
              "    }\n",
              "\n",
              "    .colab-df-convert:hover {\n",
              "      background-color: #E2EBFA;\n",
              "      box-shadow: 0px 1px 2px rgba(60, 64, 67, 0.3), 0px 1px 3px 1px rgba(60, 64, 67, 0.15);\n",
              "      fill: #174EA6;\n",
              "    }\n",
              "\n",
              "    [theme=dark] .colab-df-convert {\n",
              "      background-color: #3B4455;\n",
              "      fill: #D2E3FC;\n",
              "    }\n",
              "\n",
              "    [theme=dark] .colab-df-convert:hover {\n",
              "      background-color: #434B5C;\n",
              "      box-shadow: 0px 1px 3px 1px rgba(0, 0, 0, 0.15);\n",
              "      filter: drop-shadow(0px 1px 2px rgba(0, 0, 0, 0.3));\n",
              "      fill: #FFFFFF;\n",
              "    }\n",
              "  </style>\n",
              "\n",
              "      <script>\n",
              "        const buttonEl =\n",
              "          document.querySelector('#df-1fcebccd-ad5d-4656-af33-0c23907df17f button.colab-df-convert');\n",
              "        buttonEl.style.display =\n",
              "          google.colab.kernel.accessAllowed ? 'block' : 'none';\n",
              "\n",
              "        async function convertToInteractive(key) {\n",
              "          const element = document.querySelector('#df-1fcebccd-ad5d-4656-af33-0c23907df17f');\n",
              "          const dataTable =\n",
              "            await google.colab.kernel.invokeFunction('convertToInteractive',\n",
              "                                                     [key], {});\n",
              "          if (!dataTable) return;\n",
              "\n",
              "          const docLinkHtml = 'Like what you see? Visit the ' +\n",
              "            '<a target=\"_blank\" href=https://colab.research.google.com/notebooks/data_table.ipynb>data table notebook</a>'\n",
              "            + ' to learn more about interactive tables.';\n",
              "          element.innerHTML = '';\n",
              "          dataTable['output_type'] = 'display_data';\n",
              "          await google.colab.output.renderOutput(dataTable, element);\n",
              "          const docLink = document.createElement('div');\n",
              "          docLink.innerHTML = docLinkHtml;\n",
              "          element.appendChild(docLink);\n",
              "        }\n",
              "      </script>\n",
              "    </div>\n",
              "  </div>\n",
              "  "
            ]
          },
          "metadata": {},
          "execution_count": 7
        }
      ]
    },
    {
      "cell_type": "code",
      "source": [
        "df.shape"
      ],
      "metadata": {
        "colab": {
          "base_uri": "https://localhost:8080/"
        },
        "id": "PokfVIwheKgR",
        "outputId": "ef832528-bfed-4cea-fbd9-6ac63564052f"
      },
      "execution_count": 8,
      "outputs": [
        {
          "output_type": "execute_result",
          "data": {
            "text/plain": [
              "(1195, 11)"
            ]
          },
          "metadata": {},
          "execution_count": 8
        }
      ]
    },
    {
      "cell_type": "markdown",
      "source": [
        "Upon review of this dataset, all columns are relevant to the predictions. "
      ],
      "metadata": {
        "id": "c-reWH-LiqYd"
      }
    },
    {
      "cell_type": "code",
      "source": [
        "df.isna().sum()"
      ],
      "metadata": {
        "colab": {
          "base_uri": "https://localhost:8080/"
        },
        "id": "Nqetwgswi4Zj",
        "outputId": "909bd7ae-23d1-47fd-b57b-6c897677589c"
      },
      "execution_count": 9,
      "outputs": [
        {
          "output_type": "execute_result",
          "data": {
            "text/plain": [
              "work_year             0\n",
              "experience_level      0\n",
              "employment_type       0\n",
              "job_title             0\n",
              "salary                0\n",
              "salary_currency       0\n",
              "salary_in_usd         0\n",
              "employee_residence    0\n",
              "remote_ratio          0\n",
              "company_location      0\n",
              "company_size          0\n",
              "dtype: int64"
            ]
          },
          "metadata": {},
          "execution_count": 9
        }
      ]
    },
    {
      "cell_type": "markdown",
      "source": [
        "There are no missing values in the data"
      ],
      "metadata": {
        "id": "u8awL3zdkjLT"
      }
    },
    {
      "cell_type": "code",
      "source": [
        "df['work_year'].value_counts()"
      ],
      "metadata": {
        "colab": {
          "base_uri": "https://localhost:8080/"
        },
        "id": "pW74GgHlkmjY",
        "outputId": "0765eb87-4610-4280-f0df-3d26f9f16b28"
      },
      "execution_count": 10,
      "outputs": [
        {
          "output_type": "execute_result",
          "data": {
            "text/plain": [
              "2022    893\n",
              "2021    227\n",
              "2020     75\n",
              "Name: work_year, dtype: int64"
            ]
          },
          "metadata": {},
          "execution_count": 10
        }
      ]
    },
    {
      "cell_type": "markdown",
      "source": [
        "No erroneous data here."
      ],
      "metadata": {
        "id": "PSaKPRoIk-y5"
      }
    },
    {
      "cell_type": "code",
      "source": [
        "df['experience_level'].value_counts()"
      ],
      "metadata": {
        "colab": {
          "base_uri": "https://localhost:8080/"
        },
        "id": "bxtMhUVvlCWp",
        "outputId": "ba30ab08-13b3-417d-8101-9f015d7806f4"
      },
      "execution_count": 12,
      "outputs": [
        {
          "output_type": "execute_result",
          "data": {
            "text/plain": [
              "SE    702\n",
              "MI    314\n",
              "EN    138\n",
              "EX     41\n",
              "Name: experience_level, dtype: int64"
            ]
          },
          "metadata": {},
          "execution_count": 12
        }
      ]
    },
    {
      "cell_type": "markdown",
      "source": [
        "looks good!"
      ],
      "metadata": {
        "id": "ICl4oHxglw_H"
      }
    },
    {
      "cell_type": "code",
      "source": [
        "df['employment_type'].value_counts()"
      ],
      "metadata": {
        "colab": {
          "base_uri": "https://localhost:8080/"
        },
        "id": "8eZ--f3SlzBy",
        "outputId": "3fbe0d16-2053-47f0-8c9d-4e6c4c356574"
      },
      "execution_count": 13,
      "outputs": [
        {
          "output_type": "execute_result",
          "data": {
            "text/plain": [
              "FT    1170\n",
              "PT      12\n",
              "CT       8\n",
              "FL       5\n",
              "Name: employment_type, dtype: int64"
            ]
          },
          "metadata": {},
          "execution_count": 13
        }
      ]
    },
    {
      "cell_type": "markdown",
      "source": [
        "Also looks good"
      ],
      "metadata": {
        "id": "HlDADk9Pl5-0"
      }
    },
    {
      "cell_type": "code",
      "source": [
        "df['job_title'].value_counts()"
      ],
      "metadata": {
        "colab": {
          "base_uri": "https://localhost:8080/"
        },
        "id": "wqYsigyQl8O-",
        "outputId": "e185a98d-1edd-4d1f-d809-c80a6976afe2"
      },
      "execution_count": 16,
      "outputs": [
        {
          "output_type": "execute_result",
          "data": {
            "text/plain": [
              "Data Scientist               310\n",
              "Data Engineer                276\n",
              "Data Analyst                 162\n",
              "Machine Learning Engineer     78\n",
              "Analytics Engineer            37\n",
              "                            ... \n",
              "Power BI Developer             1\n",
              "Data Science Lead              1\n",
              "Big Data Architect             1\n",
              "Staff Data Scientist           1\n",
              "Finance Data Analyst           1\n",
              "Name: job_title, Length: 63, dtype: int64"
            ]
          },
          "metadata": {},
          "execution_count": 16
        }
      ]
    },
    {
      "cell_type": "markdown",
      "source": [
        "This will be an interesting one to one hot encode. I might seperate the data nad run the three top job titles seperately to see the figures. But still looking very clean"
      ],
      "metadata": {
        "id": "LQ7_vLBfmIxz"
      }
    },
    {
      "cell_type": "code",
      "source": [
        "df['salary_currency'].value_counts()"
      ],
      "metadata": {
        "colab": {
          "base_uri": "https://localhost:8080/"
        },
        "id": "R0DjoGE5mnNz",
        "outputId": "c209effe-4404-4825-9c65-db7e875f0646"
      },
      "execution_count": 17,
      "outputs": [
        {
          "output_type": "execute_result",
          "data": {
            "text/plain": [
              "USD    892\n",
              "EUR    129\n",
              "GBP     76\n",
              "INR     40\n",
              "CAD     21\n",
              "AUD      8\n",
              "BRL      5\n",
              "PLN      3\n",
              "TRY      3\n",
              "JPY      3\n",
              "SGD      3\n",
              "DKK      3\n",
              "CNY      2\n",
              "HUF      2\n",
              "MXN      2\n",
              "CHF      1\n",
              "CZK      1\n",
              "CLP      1\n",
              "Name: salary_currency, dtype: int64"
            ]
          },
          "metadata": {},
          "execution_count": 17
        }
      ]
    },
    {
      "cell_type": "markdown",
      "source": [
        "Looks clean as well, also another vector to see if there is a correlation between salary level and currency."
      ],
      "metadata": {
        "id": "ib0pMba-mysO"
      }
    },
    {
      "cell_type": "code",
      "source": [
        "df['employee_residence'].value_counts()"
      ],
      "metadata": {
        "colab": {
          "base_uri": "https://localhost:8080/"
        },
        "id": "hCk0pxVem6Hf",
        "outputId": "1735cdd5-228a-45f2-ef0b-af9f4819bf38"
      },
      "execution_count": 19,
      "outputs": [
        {
          "output_type": "execute_result",
          "data": {
            "text/plain": [
              "US    795\n",
              "GB     78\n",
              "IN     45\n",
              "CA     36\n",
              "DE     31\n",
              "     ... \n",
              "IE      1\n",
              "TH      1\n",
              "ID      1\n",
              "EG      1\n",
              "MT      1\n",
              "Name: employee_residence, Length: 64, dtype: int64"
            ]
          },
          "metadata": {},
          "execution_count": 19
        }
      ]
    },
    {
      "cell_type": "markdown",
      "source": [
        "looks clean"
      ],
      "metadata": {
        "id": "uq-Et1WYnU9T"
      }
    },
    {
      "cell_type": "code",
      "source": [
        "df['remote_ratio'].value_counts()"
      ],
      "metadata": {
        "colab": {
          "base_uri": "https://localhost:8080/"
        },
        "id": "o4d3nUvnnUIP",
        "outputId": "e4774ab7-f24a-42ab-c04c-d4c6d5f4bc55"
      },
      "execution_count": 20,
      "outputs": [
        {
          "output_type": "execute_result",
          "data": {
            "text/plain": [
              "100    730\n",
              "0      330\n",
              "50     135\n",
              "Name: remote_ratio, dtype: int64"
            ]
          },
          "metadata": {},
          "execution_count": 20
        }
      ]
    },
    {
      "cell_type": "code",
      "source": [
        "df['company_location'].value_counts()"
      ],
      "metadata": {
        "colab": {
          "base_uri": "https://localhost:8080/"
        },
        "id": "F2ztJ5LCneC5",
        "outputId": "bf21a50c-3faf-45f8-a4ef-6f172a25a16d"
      },
      "execution_count": 21,
      "outputs": [
        {
          "output_type": "execute_result",
          "data": {
            "text/plain": [
              "US    823\n",
              "GB     82\n",
              "CA     37\n",
              "IN     36\n",
              "DE     35\n",
              "ES     24\n",
              "FR     19\n",
              "GR     13\n",
              "PT      9\n",
              "AU      9\n",
              "NL      9\n",
              "JP      6\n",
              "BR      6\n",
              "AT      5\n",
              "TR      5\n",
              "PR      4\n",
              "PL      4\n",
              "BE      4\n",
              "DK      4\n",
              "MX      3\n",
              "CZ      3\n",
              "SG      3\n",
              "NG      3\n",
              "PK      3\n",
              "LU      3\n",
              "AE      3\n",
              "RU      2\n",
              "CH      2\n",
              "SI      2\n",
              "CN      2\n",
              "IT      2\n",
              "AS      2\n",
              "ID      2\n",
              "UA      1\n",
              "IL      1\n",
              "HR      1\n",
              "VN      1\n",
              "MD      1\n",
              "CL      1\n",
              "IR      1\n",
              "NZ      1\n",
              "CO      1\n",
              "KE      1\n",
              "HU      1\n",
              "FI      1\n",
              "EG      1\n",
              "IE      1\n",
              "IQ      1\n",
              "RO      1\n",
              "DZ      1\n",
              "TH      1\n",
              "BO      1\n",
              "PH      1\n",
              "HN      1\n",
              "AL      1\n",
              "EE      1\n",
              "MY      1\n",
              "AR      1\n",
              "MT      1\n",
              "Name: company_location, dtype: int64"
            ]
          },
          "metadata": {},
          "execution_count": 21
        }
      ]
    },
    {
      "cell_type": "markdown",
      "source": [
        "This follows the ISO Country Codes. Will be interesting to convert to numbers. I wonder if there is a standardized system for machine learning."
      ],
      "metadata": {
        "id": "_st9FsMcnuw6"
      }
    },
    {
      "cell_type": "code",
      "source": [
        "df['company_size'].value_counts()"
      ],
      "metadata": {
        "colab": {
          "base_uri": "https://localhost:8080/"
        },
        "id": "a2RxAuHWn4sZ",
        "outputId": "c2b2705d-e04a-4b3f-cf77-507f16a0adb2"
      },
      "execution_count": 22,
      "outputs": [
        {
          "output_type": "execute_result",
          "data": {
            "text/plain": [
              "M    774\n",
              "L    310\n",
              "S    111\n",
              "Name: company_size, dtype: int64"
            ]
          },
          "metadata": {},
          "execution_count": 22
        }
      ]
    },
    {
      "cell_type": "markdown",
      "source": [
        "Also looks clean!"
      ],
      "metadata": {
        "id": "A9jLWmVCoA0W"
      }
    },
    {
      "cell_type": "code",
      "source": [
        "import numpy as np\n",
        "import matplotlib.pyplot as plt\n",
        "import seaborn as sns"
      ],
      "metadata": {
        "id": "JP1qwbX4oCut"
      },
      "execution_count": 23,
      "outputs": []
    },
    {
      "cell_type": "code",
      "source": [
        "df['salary_in_usd'].hist();"
      ],
      "metadata": {
        "colab": {
          "base_uri": "https://localhost:8080/",
          "height": 265
        },
        "id": "pwLUhYnto57w",
        "outputId": "242e252d-895d-4c48-c1ed-d5e50c215ed3"
      },
      "execution_count": 25,
      "outputs": [
        {
          "output_type": "display_data",
          "data": {
            "text/plain": [
              "<Figure size 432x288 with 1 Axes>"
            ],
            "image/png": "[encoded data removed]"
          },
          "metadata": {
            "needs_background": "light"
          }
        }
      ]
    },
    {
      "cell_type": "markdown",
      "source": [
        "Wow thats already pretty cool. Shows that people working with AI and Machine Learning mostly make arround 100k"
      ],
      "metadata": {
        "id": "v0VqVKEfpGM-"
      }
    },
    {
      "cell_type": "code",
      "source": [
        "df.boxplot('salary_in_usd');"
      ],
      "metadata": {
        "colab": {
          "base_uri": "https://localhost:8080/",
          "height": 266
        },
        "id": "A6Lg8ln2pPNy",
        "outputId": "2cc38fec-2ce1-494c-c090-5891fa8786d4"
      },
      "execution_count": 27,
      "outputs": [
        {
          "output_type": "display_data",
          "data": {
            "text/plain": [
              "<Figure size 432x288 with 1 Axes>"
            ],
            "image/png": "[encoded data removed]"
          },
          "metadata": {
            "needs_background": "light"
          }
        }
      ]
    },
    {
      "cell_type": "markdown",
      "source": [
        "Good to see that there are no low outliers lol."
      ],
      "metadata": {
        "id": "QLfUGhiDpl2m"
      }
    }
  ]
}